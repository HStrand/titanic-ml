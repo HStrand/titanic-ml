{
 "cells": [
  {
   "cell_type": "markdown",
   "metadata": {},
   "source": [
    "<h2>Imports</h2>"
   ]
  },
  {
   "cell_type": "code",
   "execution_count": 3,
   "metadata": {
    "scrolled": true
   },
   "outputs": [],
   "source": [
    "import pandas as pd\n",
    "import numpy as np\n",
    "import matplotlib\n",
    "import matplotlib.pyplot as plt\n",
    "import seaborn as sns"
   ]
  },
  {
   "cell_type": "code",
   "execution_count": 2,
   "metadata": {
    "collapsed": true
   },
   "outputs": [],
   "source": [
    "df = pd.read_csv('train.csv')\n",
    "df_test = pd.read_csv('test.csv')"
   ]
  },
  {
   "cell_type": "markdown",
   "metadata": {},
   "source": [
    "<h2>Helper functions</h2>"
   ]
  },
  {
   "cell_type": "code",
   "execution_count": 4,
   "metadata": {},
   "outputs": [],
   "source": [
    "def hist(column):\n",
    "    sns.distplot(df[column].dropna(), kde=False)\n",
    "    plt.show()"
   ]
  },
  {
   "cell_type": "code",
   "execution_count": 5,
   "metadata": {},
   "outputs": [],
   "source": [
    "def density(column):\n",
    "    sns.distplot(df[column].dropna())\n",
    "    plt.show()"
   ]
  },
  {
   "cell_type": "code",
   "execution_count": 6,
   "metadata": {},
   "outputs": [],
   "source": [
    "def one_hot_encode(df, column):    \n",
    "    for i in range(0, len(df[column].unique())):\n",
    "        one_hot = df[column].unique()[i]\n",
    "        df[str(column) + '_' + str(one_hot)] = list(np.array(df[column] == df[column].unique()[i]).astype(int))"
   ]
  },
  {
   "cell_type": "code",
   "execution_count": 7,
   "metadata": {
    "collapsed": true
   },
   "outputs": [],
   "source": [
    "def summarize(column):\n",
    "    print(column)\n",
    "    print(\"----------\")\n",
    "    print(\"Count:\", df[column].count())\n",
    "    print(\"NaN:\", len(df[column]) - df[column].count())\n",
    "    print(\"Min:\", np.min(df[column].dropna()))\n",
    "    print(\"Max:\", np.max(df[column].dropna()))\n",
    "    print(\"Mean:\", np.mean(df[column].dropna()))\n",
    "    print(\"Median:\", np.median(df[column].dropna()))\n",
    "    print(\"Std. dev.:\", np.std(df[column]))"
   ]
  },
  {
   "cell_type": "code",
   "execution_count": 8,
   "metadata": {
    "scrolled": false
   },
   "outputs": [],
   "source": [
    "def survival_rates(column):\n",
    "    print(\"Counts:\")\n",
    "    for c in df[column].unique():\n",
    "        print(\"Class \" + str(c) + \": \" + str(sum(df[column]==c)))\n",
    "    sns.barplot(x=df[column], y=df['Survived'])\n",
    "    plt.show()"
   ]
  },
  {
   "cell_type": "code",
   "execution_count": 9,
   "metadata": {
    "collapsed": true
   },
   "outputs": [],
   "source": [
    "def df_without_label(label):\n",
    "    new_df = df.copy()\n",
    "\n",
    "    return new_df.drop(label, 1)"
   ]
  },
  {
   "cell_type": "markdown",
   "metadata": {},
   "source": [
    "<h2>Summary</h2>"
   ]
  },
  {
   "cell_type": "code",
   "execution_count": 10,
   "metadata": {},
   "outputs": [
    {
     "name": "stdout",
     "output_type": "stream",
     "text": [
      "<class 'pandas.core.frame.DataFrame'>\n",
      "RangeIndex: 891 entries, 0 to 890\n",
      "Data columns (total 12 columns):\n",
      "PassengerId    891 non-null int64\n",
      "Survived       891 non-null int64\n",
      "Pclass         891 non-null int64\n",
      "Name           891 non-null object\n",
      "Sex            891 non-null object\n",
      "Age            714 non-null float64\n",
      "SibSp          891 non-null int64\n",
      "Parch          891 non-null int64\n",
      "Ticket         891 non-null object\n",
      "Fare           891 non-null float64\n",
      "Cabin          204 non-null object\n",
      "Embarked       889 non-null object\n",
      "dtypes: float64(2), int64(5), object(5)\n",
      "memory usage: 83.6+ KB\n"
     ]
    }
   ],
   "source": [
    "df.info()"
   ]
  },
  {
   "cell_type": "markdown",
   "metadata": {},
   "source": [
    "<h2>Categorical columns</h2>"
   ]
  },
  {
   "cell_type": "code",
   "execution_count": 11,
   "metadata": {},
   "outputs": [
    {
     "name": "stdout",
     "output_type": "stream",
     "text": [
      "Counts:\n",
      "Class 3: 491\n",
      "Class 1: 216\n",
      "Class 2: 184\n"
     ]
    },
    {
     "data": {
      "image/png": "[encoded data removed]",
      "text/plain": [
       "<matplotlib.figure.Figure at 0x23f28b8ada0>"
      ]
     },
     "metadata": {},
     "output_type": "display_data"
    }
   ],
   "source": [
    "survival_rates('Pclass')"
   ]
  },
  {
   "cell_type": "code",
   "execution_count": 12,
   "metadata": {},
   "outputs": [
    {
     "name": "stdout",
     "output_type": "stream",
     "text": [
      "Counts:\n",
      "Class male: 577\n",
      "Class female: 314\n"
     ]
    },
    {
     "data": {
      "image/png": "[encoded data removed]",
      "text/plain": [
       "<matplotlib.figure.Figure at 0x23f224827b8>"
      ]
     },
     "metadata": {},
     "output_type": "display_data"
    }
   ],
   "source": [
    "survival_rates('Sex')"
   ]
  },
  {
   "cell_type": "code",
   "execution_count": 13,
   "metadata": {
    "scrolled": false
   },
   "outputs": [
    {
     "data": {
      "image/png": "[encoded data removed]",
      "text/plain": [
       "<matplotlib.figure.Figure at 0x23f2928ac50>"
      ]
     },
     "metadata": {},
     "output_type": "display_data"
    }
   ],
   "source": [
    "sns.barplot(x=df['Sex'], y=df['Survived'], hue=df['Pclass'])\n",
    "plt.show()"
   ]
  },
  {
   "cell_type": "code",
   "execution_count": 14,
   "metadata": {},
   "outputs": [
    {
     "name": "stdout",
     "output_type": "stream",
     "text": [
      "Counts:\n",
      "Class S: 644\n",
      "Class C: 168\n",
      "Class Q: 77\n",
      "Class nan: 0\n"
     ]
    },
    {
     "data": {
      "image/png": "[encoded data removed]",
      "text/plain": [
       "<matplotlib.figure.Figure at 0x23f29313978>"
      ]
     },
     "metadata": {},
     "output_type": "display_data"
    }
   ],
   "source": [
    "survival_rates('Embarked')"
   ]
  },
  {
   "cell_type": "code",
   "execution_count": 15,
   "metadata": {},
   "outputs": [
    {
     "data": {
      "text/html": [
       "<div>\n",
       "<style>\n",
       "    .dataframe thead tr:only-child th {\n",
       "        text-align: right;\n",
       "    }\n",
       "\n",
       "    .dataframe thead th {\n",
       "        text-align: left;\n",
       "    }\n",
       "\n",
       "    .dataframe tbody tr th {\n",
       "        vertical-align: top;\n",
       "    }\n",
       "</style>\n",
       "<table border=\"1\" class=\"dataframe\">\n",
       "  <thead>\n",
       "    <tr style=\"text-align: right;\">\n",
       "      <th></th>\n",
       "      <th>PassengerId</th>\n",
       "      <th>Survived</th>\n",
       "      <th>Pclass</th>\n",
       "      <th>Name</th>\n",
       "      <th>Sex</th>\n",
       "      <th>Age</th>\n",
       "      <th>SibSp</th>\n",
       "      <th>Parch</th>\n",
       "      <th>Ticket</th>\n",
       "      <th>Fare</th>\n",
       "      <th>Cabin</th>\n",
       "      <th>Embarked</th>\n",
       "    </tr>\n",
       "  </thead>\n",
       "  <tbody>\n",
       "    <tr>\n",
       "      <th>61</th>\n",
       "      <td>62</td>\n",
       "      <td>1</td>\n",
       "      <td>1</td>\n",
       "      <td>Icard, Miss. Amelie</td>\n",
       "      <td>female</td>\n",
       "      <td>38.0</td>\n",
       "      <td>0</td>\n",
       "      <td>0</td>\n",
       "      <td>113572</td>\n",
       "      <td>80.0</td>\n",
       "      <td>B28</td>\n",
       "      <td>NaN</td>\n",
       "    </tr>\n",
       "    <tr>\n",
       "      <th>829</th>\n",
       "      <td>830</td>\n",
       "      <td>1</td>\n",
       "      <td>1</td>\n",
       "      <td>Stone, Mrs. George Nelson (Martha Evelyn)</td>\n",
       "      <td>female</td>\n",
       "      <td>62.0</td>\n",
       "      <td>0</td>\n",
       "      <td>0</td>\n",
       "      <td>113572</td>\n",
       "      <td>80.0</td>\n",
       "      <td>B28</td>\n",
       "      <td>NaN</td>\n",
       "    </tr>\n",
       "  </tbody>\n",
       "</table>\n",
       "</div>"
      ],
      "text/plain": [
       "     PassengerId  Survived  Pclass                                       Name  \\\n",
       "61            62         1       1                        Icard, Miss. Amelie   \n",
       "829          830         1       1  Stone, Mrs. George Nelson (Martha Evelyn)   \n",
       "\n",
       "        Sex   Age  SibSp  Parch  Ticket  Fare Cabin Embarked  \n",
       "61   female  38.0      0      0  113572  80.0   B28      NaN  \n",
       "829  female  62.0      0      0  113572  80.0   B28      NaN  "
      ]
     },
     "execution_count": 15,
     "metadata": {},
     "output_type": "execute_result"
    }
   ],
   "source": [
    "df[df['Embarked'].isnull()]"
   ]
  },
  {
   "cell_type": "markdown",
   "metadata": {},
   "source": [
    "The embarked column has two missing values. We could build a model to predict where these two sampled individuals embarked from, but it would add very little value to our model as a whole, considering that it's only two samples. Let's do some simple detective work instead."
   ]
  },
  {
   "cell_type": "code",
   "execution_count": 16,
   "metadata": {},
   "outputs": [
    {
     "name": "stdout",
     "output_type": "stream",
     "text": [
      "P(S|Class=1) = 0.593457943925\n",
      "P(C|Class=1) = 0.397196261682\n",
      "P(Q|Class=1) = 0.00934579439252\n"
     ]
    }
   ],
   "source": [
    "print(\"P(S|Class=1) =\", df['Embarked'][(df['Pclass']==1) & (df['Embarked']=='S')].count()/df['Embarked'][df['Pclass']==1].count())\n",
    "print(\"P(C|Class=1) =\", df['Embarked'][(df['Pclass']==1) & (df['Embarked']=='C')].count()/df['Embarked'][df['Pclass']==1].count())\n",
    "print(\"P(Q|Class=1) =\", df['Embarked'][(df['Pclass']==1) & (df['Embarked']=='Q')].count()/df['Embarked'][df['Pclass']==1].count())"
   ]
  },
  {
   "cell_type": "markdown",
   "metadata": {},
   "source": [
    "The prior probability of the passengers embarking from Southampton given that they were travelling 1st class is 60 %. Cherbourg is also likely, with 40 %. We will discard Queenstown as unlikely, with a prior probability of less than 1 %."
   ]
  },
  {
   "cell_type": "code",
   "execution_count": 17,
   "metadata": {},
   "outputs": [
    {
     "data": {
      "image/png": "[encoded data removed]",
      "text/plain": [
       "<matplotlib.figure.Figure at 0x23f29341c50>"
      ]
     },
     "metadata": {},
     "output_type": "display_data"
    }
   ],
   "source": [
    "sns.distplot(df['Fare'][df['Embarked']=='S'])\n",
    "plt.show()"
   ]
  },
  {
   "cell_type": "code",
   "execution_count": 18,
   "metadata": {
    "scrolled": false
   },
   "outputs": [
    {
     "data": {
      "image/png": "[encoded data removed]",
      "text/plain": [
       "<matplotlib.figure.Figure at 0x23f292af0b8>"
      ]
     },
     "metadata": {},
     "output_type": "display_data"
    }
   ],
   "source": [
    "sns.distplot(df['Fare'][df['Embarked']=='C'])\n",
    "plt.show()"
   ]
  },
  {
   "cell_type": "markdown",
   "metadata": {},
   "source": [
    "The two passengers paid a fare of $80. The fare distributions for Southamption is on the lower end while Cherbourg is higher. Yet, we know that the prior probability for Southampton was higher."
   ]
  },
  {
   "cell_type": "code",
   "execution_count": 19,
   "metadata": {},
   "outputs": [
    {
     "data": {
      "text/plain": [
       "39"
      ]
     },
     "execution_count": 19,
     "metadata": {},
     "output_type": "execute_result"
    }
   ],
   "source": [
    "df['PassengerId'][(df['Fare']>60) & (df['Fare']<100) & (df['Embarked']=='S')].count()"
   ]
  },
  {
   "cell_type": "code",
   "execution_count": 20,
   "metadata": {},
   "outputs": [
    {
     "data": {
      "text/plain": [
       "26"
      ]
     },
     "execution_count": 20,
     "metadata": {},
     "output_type": "execute_result"
    }
   ],
   "source": [
    "df['PassengerId'][(df['Fare']>60) & (df['Fare']<100) & (df['Embarked']=='C')].count()"
   ]
  },
  {
   "cell_type": "markdown",
   "metadata": {},
   "source": [
    "Indeed, we see that there were in fact more passengers embarking from Southampton that payed a fare between 60 and 100 dollars than from Cherbourg. Finally, let's see if the ticket number reveals something. Their ticket number was 113572."
   ]
  },
  {
   "cell_type": "code",
   "execution_count": 21,
   "metadata": {},
   "outputs": [
    {
     "data": {
      "text/plain": [
       "54     113509\n",
       "174     17764\n",
       "209    112277\n",
       "218     11813\n",
       "291     11967\n",
       "306     17421\n",
       "310     11767\n",
       "319     16966\n",
       "329    111361\n",
       "337     16966\n",
       "366    110813\n",
       "370     11765\n",
       "377    113503\n",
       "452    113051\n",
       "453     17453\n",
       "484     11967\n",
       "487     11771\n",
       "523    111361\n",
       "539     13568\n",
       "550     17421\n",
       "556     11755\n",
       "581     17421\n",
       "583     13049\n",
       "587     13567\n",
       "604    111426\n",
       "632     13214\n",
       "647     13213\n",
       "698     17421\n",
       "766    112379\n",
       "839     11774\n",
       "842    113798\n",
       "849     17453\n",
       "879     11767\n",
       "889    111369\n",
       "Name: Ticket, dtype: object"
      ]
     },
     "execution_count": 21,
     "metadata": {},
     "output_type": "execute_result"
    }
   ],
   "source": [
    "df['Ticket'][(df['Embarked']=='C') & (df['Ticket']>'100000') & (df['Ticket']<'200000')].dropna()"
   ]
  },
  {
   "cell_type": "code",
   "execution_count": 22,
   "metadata": {
    "scrolled": false
   },
   "outputs": [
    {
     "data": {
      "text/plain": [
       "3      113803\n",
       "6       17463\n",
       "11     113783\n",
       "23     113788\n",
       "27      19950\n",
       "35     113789\n",
       "41      11668\n",
       "55      19947\n",
       "74       1601\n",
       "83     113059\n",
       "88      19950\n",
       "110    110465\n",
       "117     11668\n",
       "136     11752\n",
       "137    113803\n",
       "151    113776\n",
       "166    113505\n",
       "169      1601\n",
       "170    111240\n",
       "185    113767\n",
       "187    111428\n",
       "224     19943\n",
       "248     11751\n",
       "252    113514\n",
       "257    110152\n",
       "262    110413\n",
       "263    112059\n",
       "270    113798\n",
       "275     13502\n",
       "284    113056\n",
       "        ...  \n",
       "669     19996\n",
       "690     17474\n",
       "692      1601\n",
       "694    113800\n",
       "708    113781\n",
       "711    113028\n",
       "712     19996\n",
       "722     12233\n",
       "724    113806\n",
       "740     16988\n",
       "741     19877\n",
       "748    113773\n",
       "759    110152\n",
       "763    113760\n",
       "765     13502\n",
       "781     17474\n",
       "782    113501\n",
       "796     17465\n",
       "802    113760\n",
       "806    112050\n",
       "809    113806\n",
       "815    112058\n",
       "820     12749\n",
       "822     19972\n",
       "826      1601\n",
       "838      1601\n",
       "857    113055\n",
       "862     17466\n",
       "871     11751\n",
       "887    112053\n",
       "Name: Ticket, Length: 104, dtype: object"
      ]
     },
     "execution_count": 22,
     "metadata": {},
     "output_type": "execute_result"
    }
   ],
   "source": [
    "df['Ticket'][(df['Embarked']=='S') & (df['Ticket']>'100000') & (df['Ticket']<'200000')].dropna()"
   ]
  },
  {
   "cell_type": "markdown",
   "metadata": {},
   "source": [
    "There are plenty of ticket numbers around 113500 from both embarkation points, so that doesn't help. We're still going to go with Southampton as the imputed value."
   ]
  },
  {
   "cell_type": "code",
   "execution_count": 23,
   "metadata": {
    "collapsed": true
   },
   "outputs": [],
   "source": [
    "df ['Embarked'] = df['Embarked'].fillna('S')\n",
    "df_test ['Embarked'] = df_test['Embarked'].fillna('S')"
   ]
  },
  {
   "cell_type": "markdown",
   "metadata": {},
   "source": [
    "<h3>One-hot encoding</h3>\n",
    "It seems pretty clear that class, gender and point of embarkation all contain good predictive power. Given that these are categorical values with very few unique categories and that we now have no missing values, we simply one-hot encode the columns, and we're done!"
   ]
  },
  {
   "cell_type": "code",
   "execution_count": 24,
   "metadata": {
    "collapsed": true
   },
   "outputs": [],
   "source": [
    "one_hot_encode(df, 'Sex')\n",
    "one_hot_encode(df_test, 'Sex')"
   ]
  },
  {
   "cell_type": "code",
   "execution_count": 25,
   "metadata": {
    "collapsed": true
   },
   "outputs": [],
   "source": [
    "one_hot_encode(df, 'Pclass')\n",
    "one_hot_encode(df_test, 'Pclass')"
   ]
  },
  {
   "cell_type": "code",
   "execution_count": 26,
   "metadata": {
    "collapsed": true
   },
   "outputs": [],
   "source": [
    "one_hot_encode(df, 'Embarked')\n",
    "one_hot_encode(df_test, 'Embarked')"
   ]
  },
  {
   "cell_type": "code",
   "execution_count": 27,
   "metadata": {
    "collapsed": true
   },
   "outputs": [],
   "source": [
    "features = ['Sex_male', 'Sex_female', 'Pclass_1', 'Pclass_2', 'Pclass_3', 'Embarked_S', 'Embarked_C', 'Embarked_Q']"
   ]
  },
  {
   "cell_type": "markdown",
   "metadata": {},
   "source": [
    "<h2>Families</h2>"
   ]
  },
  {
   "cell_type": "code",
   "execution_count": 28,
   "metadata": {},
   "outputs": [
    {
     "data": {
      "image/png": "[encoded data removed]",
      "text/plain": [
       "<matplotlib.figure.Figure at 0x23f28bf5160>"
      ]
     },
     "metadata": {},
     "output_type": "display_data"
    }
   ],
   "source": [
    "hist('SibSp')"
   ]
  },
  {
   "cell_type": "code",
   "execution_count": 29,
   "metadata": {},
   "outputs": [
    {
     "name": "stdout",
     "output_type": "stream",
     "text": [
      "Counts:\n",
      "Class 1: 209\n",
      "Class 0: 608\n",
      "Class 3: 16\n",
      "Class 4: 18\n",
      "Class 2: 28\n",
      "Class 5: 5\n",
      "Class 8: 7\n"
     ]
    },
    {
     "data": {
      "image/png": "[encoded data removed]",
      "text/plain": [
       "<matplotlib.figure.Figure at 0x23f2936c2e8>"
      ]
     },
     "metadata": {},
     "output_type": "display_data"
    }
   ],
   "source": [
    "survival_rates('SibSp')"
   ]
  },
  {
   "cell_type": "code",
   "execution_count": 30,
   "metadata": {},
   "outputs": [
    {
     "data": {
      "image/png": "[encoded data removed]",
      "text/plain": [
       "<matplotlib.figure.Figure at 0x23f294d8828>"
      ]
     },
     "metadata": {},
     "output_type": "display_data"
    }
   ],
   "source": [
    "hist('Parch')"
   ]
  },
  {
   "cell_type": "code",
   "execution_count": 31,
   "metadata": {
    "scrolled": false
   },
   "outputs": [
    {
     "name": "stdout",
     "output_type": "stream",
     "text": [
      "Counts:\n",
      "Class 0: 678\n",
      "Class 1: 118\n",
      "Class 2: 80\n",
      "Class 5: 5\n",
      "Class 3: 5\n",
      "Class 4: 4\n",
      "Class 6: 1\n"
     ]
    },
    {
     "data": {
      "image/png": "[encoded data removed]",
      "text/plain": [
       "<matplotlib.figure.Figure at 0x23f294a14e0>"
      ]
     },
     "metadata": {},
     "output_type": "display_data"
    }
   ],
   "source": [
    "survival_rates('Parch')"
   ]
  },
  {
   "cell_type": "code",
   "execution_count": 32,
   "metadata": {},
   "outputs": [
    {
     "data": {
      "image/png": "[encoded data removed]",
      "text/plain": [
       "<matplotlib.figure.Figure at 0x23f295c3dd8>"
      ]
     },
     "metadata": {},
     "output_type": "display_data"
    }
   ],
   "source": [
    "sns.distplot(df['SibSp'].dropna() + df['Parch'].dropna(), kde=False)\n",
    "plt.show()"
   ]
  },
  {
   "cell_type": "code",
   "execution_count": 33,
   "metadata": {},
   "outputs": [
    {
     "name": "stdout",
     "output_type": "stream",
     "text": [
      "Counts:\n",
      "0 family members: 537\n",
      "1 family members: 161\n",
      "2 family members: 102\n",
      "3 family members: 29\n",
      "4 family members: 15\n",
      "5 family members: 22\n",
      "6 family members: 12\n",
      "7 family members: 6\n",
      "8 family members: 0\n",
      "9 family members: 0\n",
      "10 family members: 7\n"
     ]
    },
    {
     "data": {
      "image/png": "[encoded data removed]",
      "text/plain": [
       "<matplotlib.figure.Figure at 0x23f295fd518>"
      ]
     },
     "metadata": {},
     "output_type": "display_data"
    }
   ],
   "source": [
    "print(\"Counts:\")\n",
    "for i in range(11):\n",
    "    print(str(i) + \" family members:\", df['PassengerId'][df['SibSp']+df['Parch']==i].count())\n",
    "sns.barplot(x=df['SibSp']+df['Parch'], y=df['Survived'])\n",
    "plt.show()"
   ]
  },
  {
   "cell_type": "code",
   "execution_count": 34,
   "metadata": {},
   "outputs": [
    {
     "data": {
      "text/plain": [
       "0.16129032258064516"
      ]
     },
     "execution_count": 34,
     "metadata": {},
     "output_type": "execute_result"
    }
   ],
   "source": [
    "np.mean(df['Survived'][df['SibSp']+df['Parch']>3])"
   ]
  },
  {
   "cell_type": "markdown",
   "metadata": {},
   "source": [
    "The survival rate for single travellers is 30 %, while the survival rate for passenger travelling with 1 to 3 family members is around 60%. However, the survival rate among the 56 passengers travelling with 4 or more family members is an abysmal 16 %. Looking at the bar chart above, this is a pretty clear trend. Thus, it makes sense to categorize everyone into three broad family classes: 0, 1-3 and 4+. This will help prevent overfitting."
   ]
  },
  {
   "cell_type": "code",
   "execution_count": 35,
   "metadata": {
    "collapsed": true
   },
   "outputs": [],
   "source": [
    "df['Family_no'] = (df['SibSp']+df['Parch']==0).astype(int)\n",
    "df_test['Family_no'] = (df_test['SibSp']+df_test['Parch']==0).astype(int)"
   ]
  },
  {
   "cell_type": "code",
   "execution_count": 36,
   "metadata": {
    "scrolled": true
   },
   "outputs": [],
   "source": [
    "df['Family_small'] = ((df['SibSp']+df['Parch']>0)&(df['SibSp']+df['Parch']<4)).astype(int)\n",
    "df_test['Family_small'] = ((df_test['SibSp']+df_test['Parch']>0)&(df_test['SibSp']+df_test['Parch']<4)).astype(int)"
   ]
  },
  {
   "cell_type": "code",
   "execution_count": 37,
   "metadata": {},
   "outputs": [],
   "source": [
    "df['Family_large'] = (df['SibSp']+df['Parch']>3).astype(int)\n",
    "df_test['Family_large'] = (df_test['SibSp']+df_test['Parch']>3).astype(int)"
   ]
  },
  {
   "cell_type": "code",
   "execution_count": 38,
   "metadata": {
    "collapsed": true
   },
   "outputs": [],
   "source": [
    "features.append('Family_no')\n",
    "features.append('Family_small')\n",
    "features.append('Family_large')"
   ]
  },
  {
   "cell_type": "markdown",
   "metadata": {},
   "source": [
    "<h2>Age</h2>\n",
    "\n",
    "The age column has 177 missing values that need some sort of imputation.\n",
    "\n",
    "The survival rate is pretty similar for most age groups, although it's notably higher for young kids and slightly lower for old people. As we can see in the box plot, the median age is exactly the same for both survivors and non-survivors."
   ]
  },
  {
   "cell_type": "code",
   "execution_count": 39,
   "metadata": {},
   "outputs": [
    {
     "name": "stdout",
     "output_type": "stream",
     "text": [
      "Age\n",
      "----------\n",
      "Count: 714\n",
      "NaN: 177\n",
      "Min: 0.42\n",
      "Max: 80.0\n",
      "Mean: 29.69911764705882\n",
      "Median: 28.0\n",
      "Std. dev.: 14.516321150817317\n"
     ]
    }
   ],
   "source": [
    "summarize('Age')"
   ]
  },
  {
   "cell_type": "code",
   "execution_count": 40,
   "metadata": {},
   "outputs": [
    {
     "data": {
      "image/png": "[encoded data removed]",
      "text/plain": [
       "<matplotlib.figure.Figure at 0x23f29655eb8>"
      ]
     },
     "metadata": {},
     "output_type": "display_data"
    }
   ],
   "source": [
    "density('Age')"
   ]
  },
  {
   "cell_type": "code",
   "execution_count": 41,
   "metadata": {},
   "outputs": [
    {
     "name": "stdout",
     "output_type": "stream",
     "text": [
      "0 - 10: 62\n",
      "10 - 20: 100\n",
      "20 - 30: 205\n",
      "30 - 40: 142\n",
      "40 - 50: 76\n",
      "50 - 60: 38\n",
      "60 - 70: 15\n",
      "70 - 80: 4\n"
     ]
    },
    {
     "data": {
      "image/png": "[encoded data removed]",
      "text/plain": [
       "<matplotlib.figure.Figure at 0x23f29818f28>"
      ]
     },
     "metadata": {},
     "output_type": "display_data"
    }
   ],
   "source": [
    "age_groups = []\n",
    "surviverates = []\n",
    "for i in range(8):\n",
    "    age_groups.append(str(i*10) + \" - \" + str(10 + (i*10)))\n",
    "    surviverates.append(np.mean(df['Survived'][(df['Age']>(i*10)) & (df['Age']<(10 + (i*10)))]))\n",
    "    print(str(i*10) + \" - \" + str(10 + (i*10)) + \":\", df['Survived'][(df['Age']>(i*10)) & (df['Age']<(10 + (i*10)))].count())\n",
    "    \n",
    "sns.barplot(x=age_groups, y=surviverates)\n",
    "plt.show()"
   ]
  },
  {
   "cell_type": "code",
   "execution_count": 42,
   "metadata": {},
   "outputs": [
    {
     "data": {
      "image/png": "[encoded data removed]",
      "text/plain": [
       "<matplotlib.figure.Figure at 0x23f297ce710>"
      ]
     },
     "metadata": {},
     "output_type": "display_data"
    }
   ],
   "source": [
    "sns.boxplot(x=\"Survived\", y=\"Age\", data=df)\n",
    "plt.show()"
   ]
  },
  {
   "cell_type": "code",
   "execution_count": 43,
   "metadata": {},
   "outputs": [
    {
     "name": "stdout",
     "output_type": "stream",
     "text": [
      "Survivors median age: 28.0\n",
      "Non-survivors median age: 28.0\n"
     ]
    }
   ],
   "source": [
    "print(\"Survivors median age:\", np.median(df['Age'][df['Survived']==1].dropna()))\n",
    "print(\"Non-survivors median age:\", np.median(df['Age'][df['Survived']==0].dropna()))"
   ]
  },
  {
   "cell_type": "markdown",
   "metadata": {},
   "source": [
    "<h3>Age imputation</h3>\n",
    "We will build a simple regressor to impute the missing age values. We will try both random forest regression and Lasso regression."
   ]
  },
  {
   "cell_type": "code",
   "execution_count": 44,
   "metadata": {
    "collapsed": true
   },
   "outputs": [],
   "source": [
    "from sklearn.ensemble import RandomForestRegressor, VotingClassifier\n",
    "from sklearn import linear_model\n",
    "from sklearn.metrics import r2_score, mean_squared_error, median_absolute_error"
   ]
  },
  {
   "cell_type": "code",
   "execution_count": 45,
   "metadata": {
    "collapsed": true
   },
   "outputs": [],
   "source": [
    "age_df = df[df['Age'].notnull()]\n",
    "age_df_test = df_test[df_test['Age'].notnull()]"
   ]
  },
  {
   "cell_type": "code",
   "execution_count": 46,
   "metadata": {},
   "outputs": [],
   "source": [
    "impute_age_df = df[df['Age'].isnull()]\n",
    "impute_age_df_test = df_test[df_test['Age'].isnull()]"
   ]
  },
  {
   "cell_type": "code",
   "execution_count": 47,
   "metadata": {},
   "outputs": [],
   "source": [
    "features = ['Fare', 'Family_no', 'Family_small', 'Family_large', 'Sex_male', 'Sex_female', 'Pclass_1', 'Pclass_2', 'Pclass_3', 'Embarked_S', 'Embarked_Q', 'Embarked_C']"
   ]
  },
  {
   "cell_type": "code",
   "execution_count": 48,
   "metadata": {},
   "outputs": [],
   "source": [
    "X = age_df[features].as_matrix()\n",
    "Y = age_df['Age'].as_matrix()\n",
    "X_train = X[:600]\n",
    "Y_train = Y[:600]\n",
    "X_test = X[601:]\n",
    "Y_test = Y[601:]\n",
    "X_missing = impute_age_df[features].as_matrix()\n",
    "Y_missing = impute_age_df['Age'].as_matrix()\n",
    "\n",
    "Xt = age_df_test[features].as_matrix()\n",
    "Yt = age_df_test['Age'].as_matrix()\n",
    "X_missingt = impute_age_df_test[features].as_matrix()\n",
    "Y_missingt = impute_age_df_test['Age'].as_matrix()"
   ]
  },
  {
   "cell_type": "code",
   "execution_count": 49,
   "metadata": {
    "collapsed": true
   },
   "outputs": [],
   "source": [
    "rf = RandomForestRegressor(n_estimators=100, random_state=0)\n",
    "lasso = linear_model.Lasso(alpha = 0.1)"
   ]
  },
  {
   "cell_type": "code",
   "execution_count": 50,
   "metadata": {
    "scrolled": true
   },
   "outputs": [
    {
     "data": {
      "text/plain": [
       "Lasso(alpha=0.1, copy_X=True, fit_intercept=True, max_iter=1000,\n",
       "   normalize=False, positive=False, precompute=False, random_state=None,\n",
       "   selection='cyclic', tol=0.0001, warm_start=False)"
      ]
     },
     "execution_count": 50,
     "metadata": {},
     "output_type": "execute_result"
    }
   ],
   "source": [
    "rf.fit(X_train,Y_train)\n",
    "lasso.fit(X_train,Y_train)"
   ]
  },
  {
   "cell_type": "code",
   "execution_count": 51,
   "metadata": {},
   "outputs": [
    {
     "data": {
      "text/plain": [
       "9.7327857142857148"
      ]
     },
     "execution_count": 51,
     "metadata": {},
     "output_type": "execute_result"
    }
   ],
   "source": [
    "median_absolute_error(rf.predict(X_test),Y_test)"
   ]
  },
  {
   "cell_type": "code",
   "execution_count": 52,
   "metadata": {},
   "outputs": [
    {
     "data": {
      "text/plain": [
       "9.0886732810173108"
      ]
     },
     "execution_count": 52,
     "metadata": {},
     "output_type": "execute_result"
    }
   ],
   "source": [
    "median_absolute_error(lasso.predict(X_test),Y_test)"
   ]
  },
  {
   "cell_type": "code",
   "execution_count": 53,
   "metadata": {},
   "outputs": [
    {
     "data": {
      "text/plain": [
       "15.907788922558055"
      ]
     },
     "execution_count": 53,
     "metadata": {},
     "output_type": "execute_result"
    }
   ],
   "source": [
    "np.sqrt(mean_squared_error(rf.predict(X_test),Y_test))"
   ]
  },
  {
   "cell_type": "code",
   "execution_count": 54,
   "metadata": {},
   "outputs": [
    {
     "data": {
      "text/plain": [
       "13.454388569327248"
      ]
     },
     "execution_count": 54,
     "metadata": {},
     "output_type": "execute_result"
    }
   ],
   "source": [
    "np.sqrt(mean_squared_error(lasso.predict(X_test),Y_test))"
   ]
  },
  {
   "cell_type": "code",
   "execution_count": 55,
   "metadata": {},
   "outputs": [
    {
     "data": {
      "text/plain": [
       "10.0"
      ]
     },
     "execution_count": 55,
     "metadata": {},
     "output_type": "execute_result"
    }
   ],
   "source": [
    "median_absolute_error(np.array([28]*113), Y_test)"
   ]
  },
  {
   "cell_type": "markdown",
   "metadata": {},
   "source": [
    "The results are pretty terrible. Lasso regression was only able to outperform a simple median guess ever so slightly. Random forest regression was only a little bit better. Its median miss is almost 9 years. Nevertheless, we will retrain the model on all the labeled samples and use the predictions as imputation values. However, we will create a column 'Age_impute' to indicate where values were imputed. Hopefully, our final model can pick up the pattern of inaccuracy in imputed age values."
   ]
  },
  {
   "cell_type": "code",
   "execution_count": 56,
   "metadata": {},
   "outputs": [
    {
     "data": {
      "text/plain": [
       "RandomForestRegressor(bootstrap=True, criterion='mse', max_depth=None,\n",
       "           max_features='auto', max_leaf_nodes=None,\n",
       "           min_impurity_decrease=0.0, min_impurity_split=None,\n",
       "           min_samples_leaf=1, min_samples_split=2,\n",
       "           min_weight_fraction_leaf=0.0, n_estimators=100, n_jobs=1,\n",
       "           oob_score=False, random_state=0, verbose=0, warm_start=False)"
      ]
     },
     "execution_count": 56,
     "metadata": {},
     "output_type": "execute_result"
    }
   ],
   "source": [
    "rf.fit(X,Y)"
   ]
  },
  {
   "cell_type": "code",
   "execution_count": 57,
   "metadata": {
    "collapsed": true
   },
   "outputs": [],
   "source": [
    "df['Age_imputed'] = df['Age'].isnull().astype(int)\n",
    "df_test['Age_imputed'] = df_test['Age'].isnull().astype(int)"
   ]
  },
  {
   "cell_type": "code",
   "execution_count": 58,
   "metadata": {},
   "outputs": [
    {
     "name": "stderr",
     "output_type": "stream",
     "text": [
      "C:\\ProgramData\\Anaconda3\\lib\\site-packages\\ipykernel\\__main__.py:1: SettingWithCopyWarning: \n",
      "A value is trying to be set on a copy of a slice from a DataFrame\n",
      "\n",
      "See the caveats in the documentation: http://pandas.pydata.org/pandas-docs/stable/indexing.html#indexing-view-versus-copy\n",
      "  if __name__ == '__main__':\n",
      "C:\\ProgramData\\Anaconda3\\lib\\site-packages\\ipykernel\\__main__.py:2: SettingWithCopyWarning: \n",
      "A value is trying to be set on a copy of a slice from a DataFrame\n",
      "\n",
      "See the caveats in the documentation: http://pandas.pydata.org/pandas-docs/stable/indexing.html#indexing-view-versus-copy\n",
      "  from ipykernel import kernelapp as app\n"
     ]
    }
   ],
   "source": [
    "df['Age'][df['Age'].isnull()] = np.round(rf.predict(X_missing),2)\n",
    "df_test['Age'][df_test['Age'].isnull()] = np.round(rf.predict(X_missingt),2)"
   ]
  },
  {
   "cell_type": "code",
   "execution_count": 59,
   "metadata": {
    "collapsed": true
   },
   "outputs": [],
   "source": [
    "features.append('Age')\n",
    "features.append('Age_imputed')"
   ]
  },
  {
   "cell_type": "markdown",
   "metadata": {},
   "source": [
    "<h2>Fare</h2>"
   ]
  },
  {
   "cell_type": "code",
   "execution_count": 60,
   "metadata": {
    "scrolled": true
   },
   "outputs": [
    {
     "name": "stdout",
     "output_type": "stream",
     "text": [
      "Fare\n",
      "----------\n",
      "Count: 891\n",
      "NaN: 0\n",
      "Min: 0.0\n",
      "Max: 512.3292\n",
      "Mean: 32.2042079685746\n",
      "Median: 14.4542\n",
      "Std. dev.: 49.66553444477411\n"
     ]
    }
   ],
   "source": [
    "summarize('Fare')"
   ]
  },
  {
   "cell_type": "code",
   "execution_count": 61,
   "metadata": {},
   "outputs": [
    {
     "data": {
      "image/png": "[encoded data removed]",
      "text/plain": [
       "<matplotlib.figure.Figure at 0x23f29818780>"
      ]
     },
     "metadata": {},
     "output_type": "display_data"
    }
   ],
   "source": [
    "density('Fare')"
   ]
  },
  {
   "cell_type": "code",
   "execution_count": 62,
   "metadata": {
    "scrolled": false
   },
   "outputs": [
    {
     "data": {
      "image/png": "[encoded data removed]",
      "text/plain": [
       "<matplotlib.figure.Figure at 0x23f2963ed30>"
      ]
     },
     "metadata": {},
     "output_type": "display_data"
    }
   ],
   "source": [
    "sns.boxplot(x=\"Pclass\", y=\"Fare\", data=df)\n",
    "plt.show()"
   ]
  },
  {
   "cell_type": "code",
   "execution_count": 63,
   "metadata": {},
   "outputs": [
    {
     "data": {
      "image/png": "[encoded data removed]",
      "text/plain": [
       "<matplotlib.figure.Figure at 0x23f298332b0>"
      ]
     },
     "metadata": {},
     "output_type": "display_data"
    }
   ],
   "source": [
    "sns.boxplot(x=\"Pclass\", y=\"Fare\", data=df[df['Pclass']>1])\n",
    "plt.show()"
   ]
  },
  {
   "cell_type": "code",
   "execution_count": 64,
   "metadata": {
    "scrolled": false
   },
   "outputs": [
    {
     "data": {
      "image/png": "[encoded data removed]",
      "text/plain": [
       "<matplotlib.figure.Figure at 0x23f29891908>"
      ]
     },
     "metadata": {},
     "output_type": "display_data"
    }
   ],
   "source": [
    "plt.scatter(df['Age'][df['Fare']<300], df['Fare'][df['Fare']<300])\n",
    "plt.show()"
   ]
  },
  {
   "cell_type": "code",
   "execution_count": 65,
   "metadata": {
    "scrolled": false
   },
   "outputs": [
    {
     "data": {
      "image/png": "[encoded data removed]",
      "text/plain": [
       "<matplotlib.figure.Figure at 0x23f297dde48>"
      ]
     },
     "metadata": {},
     "output_type": "display_data"
    }
   ],
   "source": [
    "sns.boxplot(x=\"Survived\", y=\"Fare\", data=df[df['Fare']<300])\n",
    "plt.show()"
   ]
  },
  {
   "cell_type": "markdown",
   "metadata": {},
   "source": [
    "We see that the survivors clearly payed higher fares overall. This is not surprising, as the fare is highly correlated with passenger class, which was also shown to be a good predictor of survival. One outlier is not shown in the box plot.\n",
    "\n",
    "There are no missing values in the fare column, so we will use it as is for the time being."
   ]
  },
  {
   "cell_type": "code",
   "execution_count": 66,
   "metadata": {
    "collapsed": true
   },
   "outputs": [],
   "source": [
    "features.append('Fare')"
   ]
  },
  {
   "cell_type": "markdown",
   "metadata": {},
   "source": [
    "<h2>Passenger ID</h2>"
   ]
  },
  {
   "cell_type": "markdown",
   "metadata": {},
   "source": [
    "Using the passenger ID as a feature would be ridiculous, right? Not necessarily. We don't know whether the passengers were sampled completely at random or in some non-random order. Let's plot survival rates by groups of passenger IDs and let's try to find out."
   ]
  },
  {
   "cell_type": "code",
   "execution_count": 67,
   "metadata": {},
   "outputs": [
    {
     "name": "stdout",
     "output_type": "stream",
     "text": [
      "0 - 100: 99\n",
      "100 - 200: 0\n",
      "200 - 300: 0\n",
      "300 - 400: 0\n",
      "400 - 500: 0\n",
      "500 - 600: 0\n",
      "600 - 700: 0\n",
      "700 - 800: 0\n",
      "800 - 900: 0\n"
     ]
    },
    {
     "data": {
      "image/png": "[encoded data removed]",
      "text/plain": [
       "<matplotlib.figure.Figure at 0x23f29550710>"
      ]
     },
     "metadata": {},
     "output_type": "display_data"
    }
   ],
   "source": [
    "id_groups = []\n",
    "surviverates = []\n",
    "for i in range(9):\n",
    "    id_groups.append(str(i*100) + \" - \" + str(100 + (i*100)))\n",
    "    surviverates.append(np.mean(df['Survived'][(df['PassengerId']>(i*100)) & (df['PassengerId']<(100 + (i*100)))]))\n",
    "    print(str(i*100) + \" - \" + str(100 + (i*100)) + \":\", df['Survived'][(df['Age']>(i*100)) & (df['PassengerId']<(100 + (i*100)))].count())\n",
    "    \n",
    "sns.barplot(x=id_groups, y=surviverates)\n",
    "plt.show()"
   ]
  },
  {
   "cell_type": "code",
   "execution_count": 68,
   "metadata": {},
   "outputs": [
    {
     "data": {
      "image/png": "[encoded data removed]",
      "text/plain": [
       "<matplotlib.figure.Figure at 0x23f297b1400>"
      ]
     },
     "metadata": {},
     "output_type": "display_data"
    }
   ],
   "source": [
    "sns.boxplot(x=\"Survived\", y=\"PassengerId\", data=df[df['Fare']<300])\n",
    "plt.show()"
   ]
  },
  {
   "cell_type": "markdown",
   "metadata": {},
   "source": [
    "There are some hints of correlation, but it looks thin. Nevertheless, we will include the feature and check it for importance. Perhaps combining it with the other features will disclose hidden patterns."
   ]
  },
  {
   "cell_type": "code",
   "execution_count": 69,
   "metadata": {
    "collapsed": true
   },
   "outputs": [],
   "source": [
    "features.append('PassengerId')"
   ]
  },
  {
   "cell_type": "markdown",
   "metadata": {},
   "source": [
    "<h2>Cabin</h2>\n",
    "The cabin column has mostly missing values. Additionally, almost every cabin is unique. One-hot encoding each of them as a feature would simply lead to gross overfitting. However, we notice that each cabin starts with a letter, which probably corresponds to the location on the ship. This could prove interesting."
   ]
  },
  {
   "cell_type": "code",
   "execution_count": 70,
   "metadata": {},
   "outputs": [],
   "source": [
    "df['Cabin_letters'] = [c[0] for c in df['Cabin'].astype(str)]\n",
    "df_test['Cabin_letters'] = [c[0] for c in df_test['Cabin'].astype(str)]"
   ]
  },
  {
   "cell_type": "code",
   "execution_count": 71,
   "metadata": {},
   "outputs": [
    {
     "name": "stdout",
     "output_type": "stream",
     "text": [
      "Counts:\n",
      "Class n: 687\n",
      "Class C: 59\n",
      "Class E: 32\n",
      "Class G: 4\n",
      "Class D: 33\n",
      "Class A: 15\n",
      "Class B: 47\n",
      "Class F: 13\n",
      "Class T: 1\n"
     ]
    },
    {
     "data": {
      "image/png": "[encoded data removed]",
      "text/plain": [
       "<matplotlib.figure.Figure at 0x23f298fa828>"
      ]
     },
     "metadata": {},
     "output_type": "display_data"
    }
   ],
   "source": [
    "survival_rates('Cabin_letters')"
   ]
  },
  {
   "cell_type": "code",
   "execution_count": 72,
   "metadata": {},
   "outputs": [
    {
     "data": {
      "text/plain": [
       "0.6666666666666666"
      ]
     },
     "execution_count": 72,
     "metadata": {},
     "output_type": "execute_result"
    }
   ],
   "source": [
    "np.mean(df['Survived'][df['Cabin_letters']!='n'])"
   ]
  },
  {
   "cell_type": "code",
   "execution_count": 73,
   "metadata": {},
   "outputs": [
    {
     "data": {
      "text/plain": [
       "0.29985443959243085"
      ]
     },
     "execution_count": 73,
     "metadata": {},
     "output_type": "execute_result"
    }
   ],
   "source": [
    "np.mean(df['Survived'][df['Cabin_letters']=='n'])"
   ]
  },
  {
   "cell_type": "markdown",
   "metadata": {},
   "source": [
    "Here we see something interesting. The survival rates for different cabin types are unreliable, but hover around 50-70 %. However, the survival rate for samples with missing cabin values is only at 30 %. This probably means that those individuals didn't have a cabin, which lead to lower likelihood of survival. Our best bet here is probably to construct a simple boolean feature which indicates cabin or no cabin. This keeps the model simple.\n",
    "\n",
    "<h3>Transformation:</h3>"
   ]
  },
  {
   "cell_type": "code",
   "execution_count": 74,
   "metadata": {
    "collapsed": true
   },
   "outputs": [],
   "source": [
    "df['HasCabin'] = df['Cabin'].notnull().astype(int)\n",
    "df_test['HasCabin'] = df_test['Cabin'].notnull().astype(int)"
   ]
  },
  {
   "cell_type": "code",
   "execution_count": 75,
   "metadata": {
    "collapsed": true
   },
   "outputs": [],
   "source": [
    "features.append('HasCabin')"
   ]
  },
  {
   "cell_type": "markdown",
   "metadata": {},
   "source": [
    "<h2>Ticket</h2>\n",
    "The ticket column doesn't have missing values, but is trickier, because the format varies a lot."
   ]
  },
  {
   "cell_type": "code",
   "execution_count": 76,
   "metadata": {},
   "outputs": [],
   "source": [
    "df['Ticket_lengths'] = [len(t) for t in df['Ticket']]\n",
    "df_test['Ticket_lengths'] = [len(t) for t in df_test['Ticket']]"
   ]
  },
  {
   "cell_type": "code",
   "execution_count": 77,
   "metadata": {},
   "outputs": [
    {
     "data": {
      "image/png": "[encoded data removed]",
      "text/plain": [
       "<matplotlib.figure.Figure at 0x23f294dbbe0>"
      ]
     },
     "metadata": {},
     "output_type": "display_data"
    }
   ],
   "source": [
    "hist('Ticket_lengths')"
   ]
  },
  {
   "cell_type": "code",
   "execution_count": 78,
   "metadata": {},
   "outputs": [
    {
     "name": "stdout",
     "output_type": "stream",
     "text": [
      "Counts:\n",
      "Class 9: 26\n",
      "Class 8: 76\n",
      "Class 16: 11\n",
      "Class 6: 419\n",
      "Class 5: 131\n",
      "Class 7: 27\n",
      "Class 4: 101\n",
      "Class 10: 41\n",
      "Class 13: 10\n",
      "Class 15: 9\n",
      "Class 12: 10\n",
      "Class 11: 8\n",
      "Class 17: 14\n",
      "Class 18: 6\n",
      "Class 3: 2\n"
     ]
    },
    {
     "data": {
      "image/png": "[encoded data removed]",
      "text/plain": [
       "<matplotlib.figure.Figure at 0x23f29af99b0>"
      ]
     },
     "metadata": {},
     "output_type": "display_data"
    }
   ],
   "source": [
    "survival_rates('Ticket_lengths')"
   ]
  },
  {
   "cell_type": "code",
   "execution_count": 79,
   "metadata": {},
   "outputs": [
    {
     "data": {
      "image/png": "[encoded data removed]",
      "text/plain": [
       "<matplotlib.figure.Figure at 0x23f2960ec50>"
      ]
     },
     "metadata": {},
     "output_type": "display_data"
    }
   ],
   "source": [
    "sns.boxplot(x=\"Survived\", y=\"Ticket_lengths\", data=df[df['Fare']<300])\n",
    "plt.show()"
   ]
  },
  {
   "cell_type": "markdown",
   "metadata": {},
   "source": [
    "In theory, the length of the ticket number could hold some important information, but this doesn't look promising. I'm very reluctant to include this feature."
   ]
  },
  {
   "cell_type": "markdown",
   "metadata": {},
   "source": [
    "<h2>Name</h2>\n",
    "We have already incorporated the genders of every passenger into our model, so that information doesn't necessarily reveal much. However, every name comes with a title. That could be interesting information."
   ]
  },
  {
   "cell_type": "markdown",
   "metadata": {},
   "source": [
    "<h3>Title</h3>"
   ]
  },
  {
   "cell_type": "code",
   "execution_count": 80,
   "metadata": {},
   "outputs": [],
   "source": [
    "df['Title'] = [x.split(',')[1].split(' ')[1] for x in df['Name']]\n",
    "df_test['Title'] = [x.split(',')[1].split(' ')[1] for x in df_test['Name']]"
   ]
  },
  {
   "cell_type": "code",
   "execution_count": 81,
   "metadata": {},
   "outputs": [
    {
     "name": "stdout",
     "output_type": "stream",
     "text": [
      "Counts:\n",
      "Class Mr.: 517\n",
      "Class Mrs.: 125\n",
      "Class Miss.: 182\n",
      "Class Master.: 40\n",
      "Class Don.: 1\n",
      "Class Rev.: 6\n",
      "Class Dr.: 7\n",
      "Class Mme.: 1\n",
      "Class Ms.: 1\n",
      "Class Major.: 2\n",
      "Class Lady.: 1\n",
      "Class Sir.: 1\n",
      "Class Mlle.: 2\n",
      "Class Col.: 2\n",
      "Class Capt.: 1\n",
      "Class the: 1\n",
      "Class Jonkheer.: 1\n"
     ]
    },
    {
     "data": {
      "image/png": "[encoded data removed]",
      "text/plain": [
       "<matplotlib.figure.Figure at 0x23f2ac45ef0>"
      ]
     },
     "metadata": {},
     "output_type": "display_data"
    }
   ],
   "source": [
    "survival_rates('Title')"
   ]
  },
  {
   "cell_type": "markdown",
   "metadata": {},
   "source": [
    "We have a bit too fine-grained information here. The Mr. group is the largest and clearly has a lower survival rate. Female titles have higher survival rates. Other titles also seem to have higher survival rates, but there are few data points. We will group them into three categories."
   ]
  },
  {
   "cell_type": "code",
   "execution_count": 82,
   "metadata": {
    "collapsed": true
   },
   "outputs": [],
   "source": [
    "df['Mr'] = [int(x=='Mr.') for x in df['Title']]\n",
    "df_test['Mr'] = [int(x=='Mr.') for x in df_test['Title']]"
   ]
  },
  {
   "cell_type": "code",
   "execution_count": 83,
   "metadata": {
    "collapsed": true
   },
   "outputs": [],
   "source": [
    "df['Ms'] = [int((x=='Mrs.') or (x=='Miss.') or (x=='Ms.')) for x in df['Title']]\n",
    "df_test['Ms'] = [int((x=='Mrs.') or (x=='Miss.') or (x=='Ms.')) for x in df_test['Title']]"
   ]
  },
  {
   "cell_type": "code",
   "execution_count": 84,
   "metadata": {},
   "outputs": [],
   "source": [
    "df['Other_title'] = [int(x not in ['Mr.', 'Miss.', 'Ms.', 'Mrs.']) for x in df['Title']]\n",
    "df_test['Other_title'] = [int(x not in ['Mr.', 'Miss.', 'Ms.', 'Mrs.']) for x in df_test['Title']]"
   ]
  },
  {
   "cell_type": "code",
   "execution_count": 85,
   "metadata": {},
   "outputs": [
    {
     "data": {
      "text/plain": [
       "0.15667311411992263"
      ]
     },
     "execution_count": 85,
     "metadata": {},
     "output_type": "execute_result"
    }
   ],
   "source": [
    "np.mean(df['Survived'][df['Mr']==1])"
   ]
  },
  {
   "cell_type": "code",
   "execution_count": 86,
   "metadata": {},
   "outputs": [
    {
     "data": {
      "text/plain": [
       "0.737012987012987"
      ]
     },
     "execution_count": 86,
     "metadata": {},
     "output_type": "execute_result"
    }
   ],
   "source": [
    "np.mean(df['Survived'][df['Ms']==1])"
   ]
  },
  {
   "cell_type": "code",
   "execution_count": 87,
   "metadata": {
    "scrolled": true
   },
   "outputs": [
    {
     "data": {
      "text/plain": [
       "0.5151515151515151"
      ]
     },
     "execution_count": 87,
     "metadata": {},
     "output_type": "execute_result"
    }
   ],
   "source": [
    "np.mean(df['Survived'][df['Other_title']==1])"
   ]
  },
  {
   "cell_type": "markdown",
   "metadata": {},
   "source": [
    "Indeed, we find a clear difference between the three groups."
   ]
  },
  {
   "cell_type": "code",
   "execution_count": 88,
   "metadata": {
    "collapsed": true
   },
   "outputs": [],
   "source": [
    "features.append('Mr')\n",
    "features.append('Ms')\n",
    "features.append('Other_title')"
   ]
  },
  {
   "cell_type": "markdown",
   "metadata": {},
   "source": [
    "<h3>Nationality</h3>\n",
    "Most of the passengers were British or American. Another large group was Scandinavians, which often have names ending in 'sen' or 'son'. Indeed, we find 117 such instances. Let's use that."
   ]
  },
  {
   "cell_type": "code",
   "execution_count": 89,
   "metadata": {},
   "outputs": [
    {
     "data": {
      "text/plain": [
       "117"
      ]
     },
     "execution_count": 89,
     "metadata": {},
     "output_type": "execute_result"
    }
   ],
   "source": [
    "sum([('sen' in x) or ('son' in x) for x in df['Name']])"
   ]
  },
  {
   "cell_type": "code",
   "execution_count": 90,
   "metadata": {
    "scrolled": true
   },
   "outputs": [],
   "source": [
    "df['Scandinavian'] = [int(('sen' in x) or ('son' in x)) for x in df['Name']]\n",
    "df_test['Scandinavian'] = [int(('sen' in x) or ('son' in x)) for x in df_test['Name']]"
   ]
  },
  {
   "cell_type": "code",
   "execution_count": 91,
   "metadata": {},
   "outputs": [
    {
     "data": {
      "text/plain": [
       "0.3162393162393162"
      ]
     },
     "execution_count": 91,
     "metadata": {},
     "output_type": "execute_result"
    }
   ],
   "source": [
    "np.mean(df['Survived'][df['Scandinavian']==1])"
   ]
  },
  {
   "cell_type": "code",
   "execution_count": 92,
   "metadata": {
    "collapsed": true
   },
   "outputs": [],
   "source": [
    "features.append('Scandinavian')"
   ]
  },
  {
   "cell_type": "code",
   "execution_count": 93,
   "metadata": {},
   "outputs": [
    {
     "data": {
      "text/plain": [
       "21"
      ]
     },
     "execution_count": 93,
     "metadata": {},
     "output_type": "execute_result"
    }
   ],
   "source": [
    "len(features)"
   ]
  },
  {
   "cell_type": "code",
   "execution_count": 94,
   "metadata": {
    "scrolled": true
   },
   "outputs": [
    {
     "data": {
      "text/html": [
       "<div>\n",
       "<style>\n",
       "    .dataframe thead tr:only-child th {\n",
       "        text-align: right;\n",
       "    }\n",
       "\n",
       "    .dataframe thead th {\n",
       "        text-align: left;\n",
       "    }\n",
       "\n",
       "    .dataframe tbody tr th {\n",
       "        vertical-align: top;\n",
       "    }\n",
       "</style>\n",
       "<table border=\"1\" class=\"dataframe\">\n",
       "  <thead>\n",
       "    <tr style=\"text-align: right;\">\n",
       "      <th></th>\n",
       "      <th>Fare</th>\n",
       "      <th>Family_no</th>\n",
       "      <th>Family_small</th>\n",
       "      <th>Family_large</th>\n",
       "      <th>Sex_male</th>\n",
       "      <th>Sex_female</th>\n",
       "      <th>Pclass_1</th>\n",
       "      <th>Pclass_2</th>\n",
       "      <th>Pclass_3</th>\n",
       "      <th>Embarked_S</th>\n",
       "      <th>...</th>\n",
       "      <th>Embarked_C</th>\n",
       "      <th>Age</th>\n",
       "      <th>Age_imputed</th>\n",
       "      <th>Fare</th>\n",
       "      <th>PassengerId</th>\n",
       "      <th>HasCabin</th>\n",
       "      <th>Mr</th>\n",
       "      <th>Ms</th>\n",
       "      <th>Other_title</th>\n",
       "      <th>Scandinavian</th>\n",
       "    </tr>\n",
       "  </thead>\n",
       "  <tbody>\n",
       "    <tr>\n",
       "      <th>0</th>\n",
       "      <td>7.2500</td>\n",
       "      <td>0</td>\n",
       "      <td>1</td>\n",
       "      <td>0</td>\n",
       "      <td>1</td>\n",
       "      <td>0</td>\n",
       "      <td>0</td>\n",
       "      <td>0</td>\n",
       "      <td>1</td>\n",
       "      <td>1</td>\n",
       "      <td>...</td>\n",
       "      <td>0</td>\n",
       "      <td>22.0</td>\n",
       "      <td>0</td>\n",
       "      <td>7.2500</td>\n",
       "      <td>1</td>\n",
       "      <td>0</td>\n",
       "      <td>1</td>\n",
       "      <td>0</td>\n",
       "      <td>0</td>\n",
       "      <td>0</td>\n",
       "    </tr>\n",
       "    <tr>\n",
       "      <th>1</th>\n",
       "      <td>71.2833</td>\n",
       "      <td>0</td>\n",
       "      <td>1</td>\n",
       "      <td>0</td>\n",
       "      <td>0</td>\n",
       "      <td>1</td>\n",
       "      <td>1</td>\n",
       "      <td>0</td>\n",
       "      <td>0</td>\n",
       "      <td>0</td>\n",
       "      <td>...</td>\n",
       "      <td>1</td>\n",
       "      <td>38.0</td>\n",
       "      <td>0</td>\n",
       "      <td>71.2833</td>\n",
       "      <td>2</td>\n",
       "      <td>1</td>\n",
       "      <td>0</td>\n",
       "      <td>1</td>\n",
       "      <td>0</td>\n",
       "      <td>0</td>\n",
       "    </tr>\n",
       "    <tr>\n",
       "      <th>2</th>\n",
       "      <td>7.9250</td>\n",
       "      <td>1</td>\n",
       "      <td>0</td>\n",
       "      <td>0</td>\n",
       "      <td>0</td>\n",
       "      <td>1</td>\n",
       "      <td>0</td>\n",
       "      <td>0</td>\n",
       "      <td>1</td>\n",
       "      <td>1</td>\n",
       "      <td>...</td>\n",
       "      <td>0</td>\n",
       "      <td>26.0</td>\n",
       "      <td>0</td>\n",
       "      <td>7.9250</td>\n",
       "      <td>3</td>\n",
       "      <td>0</td>\n",
       "      <td>0</td>\n",
       "      <td>1</td>\n",
       "      <td>0</td>\n",
       "      <td>0</td>\n",
       "    </tr>\n",
       "    <tr>\n",
       "      <th>3</th>\n",
       "      <td>53.1000</td>\n",
       "      <td>0</td>\n",
       "      <td>1</td>\n",
       "      <td>0</td>\n",
       "      <td>0</td>\n",
       "      <td>1</td>\n",
       "      <td>1</td>\n",
       "      <td>0</td>\n",
       "      <td>0</td>\n",
       "      <td>1</td>\n",
       "      <td>...</td>\n",
       "      <td>0</td>\n",
       "      <td>35.0</td>\n",
       "      <td>0</td>\n",
       "      <td>53.1000</td>\n",
       "      <td>4</td>\n",
       "      <td>1</td>\n",
       "      <td>0</td>\n",
       "      <td>1</td>\n",
       "      <td>0</td>\n",
       "      <td>0</td>\n",
       "    </tr>\n",
       "    <tr>\n",
       "      <th>4</th>\n",
       "      <td>8.0500</td>\n",
       "      <td>1</td>\n",
       "      <td>0</td>\n",
       "      <td>0</td>\n",
       "      <td>1</td>\n",
       "      <td>0</td>\n",
       "      <td>0</td>\n",
       "      <td>0</td>\n",
       "      <td>1</td>\n",
       "      <td>1</td>\n",
       "      <td>...</td>\n",
       "      <td>0</td>\n",
       "      <td>35.0</td>\n",
       "      <td>0</td>\n",
       "      <td>8.0500</td>\n",
       "      <td>5</td>\n",
       "      <td>0</td>\n",
       "      <td>1</td>\n",
       "      <td>0</td>\n",
       "      <td>0</td>\n",
       "      <td>0</td>\n",
       "    </tr>\n",
       "  </tbody>\n",
       "</table>\n",
       "<p>5 rows × 21 columns</p>\n",
       "</div>"
      ],
      "text/plain": [
       "      Fare  Family_no  Family_small  Family_large  Sex_male  Sex_female  \\\n",
       "0   7.2500          0             1             0         1           0   \n",
       "1  71.2833          0             1             0         0           1   \n",
       "2   7.9250          1             0             0         0           1   \n",
       "3  53.1000          0             1             0         0           1   \n",
       "4   8.0500          1             0             0         1           0   \n",
       "\n",
       "   Pclass_1  Pclass_2  Pclass_3  Embarked_S      ...       Embarked_C   Age  \\\n",
       "0         0         0         1           1      ...                0  22.0   \n",
       "1         1         0         0           0      ...                1  38.0   \n",
       "2         0         0         1           1      ...                0  26.0   \n",
       "3         1         0         0           1      ...                0  35.0   \n",
       "4         0         0         1           1      ...                0  35.0   \n",
       "\n",
       "   Age_imputed     Fare  PassengerId  HasCabin  Mr  Ms  Other_title  \\\n",
       "0            0   7.2500            1         0   1   0            0   \n",
       "1            0  71.2833            2         1   0   1            0   \n",
       "2            0   7.9250            3         0   0   1            0   \n",
       "3            0  53.1000            4         1   0   1            0   \n",
       "4            0   8.0500            5         0   1   0            0   \n",
       "\n",
       "   Scandinavian  \n",
       "0             0  \n",
       "1             0  \n",
       "2             0  \n",
       "3             0  \n",
       "4             0  \n",
       "\n",
       "[5 rows x 21 columns]"
      ]
     },
     "execution_count": 94,
     "metadata": {},
     "output_type": "execute_result"
    }
   ],
   "source": [
    "df[features].head()"
   ]
  },
  {
   "cell_type": "markdown",
   "metadata": {},
   "source": [
    "<h2>Machine learning</h2>"
   ]
  },
  {
   "cell_type": "code",
   "execution_count": 96,
   "metadata": {},
   "outputs": [],
   "source": [
    "from sklearn.ensemble import RandomForestClassifier, AdaBoostClassifier\n",
    "from sklearn.naive_bayes import GaussianNB\n",
    "from sklearn.svm import SVC\n",
    "from sklearn.neighbors import KNeighborsClassifier\n",
    "from sklearn.linear_model import LogisticRegression\n",
    "# import xgboost as xgb\n",
    "from sklearn.model_selection import cross_val_score"
   ]
  },
  {
   "cell_type": "code",
   "execution_count": 98,
   "metadata": {},
   "outputs": [],
   "source": [
    "classifiers = {\n",
    "    # \"XGBoost\": xgb.XGBClassifier(learning_rate=0.26, n_estimators=21)\n",
    "    \"Random Forest\": RandomForestClassifier(n_estimators=25)\n",
    "    ,\"AdaBoost\": AdaBoostClassifier()\n",
    "    ,\"Naive Bayes\": GaussianNB()\n",
    "    ,\"Linear SVM\": SVC(kernel=\"linear\", C=0.025, probability=True)\n",
    "    ,\"Gaussian SVM\": SVC(gamma=2, C=1, probability=True)\n",
    "    ,\"k-Nearest Neighbors\": KNeighborsClassifier(3)\n",
    "    }"
   ]
  },
  {
   "cell_type": "code",
   "execution_count": 99,
   "metadata": {},
   "outputs": [
    {
     "ename": "NameError",
     "evalue": "name 'key' is not defined",
     "output_type": "error",
     "traceback": [
      "\u001b[1;31m---------------------------------------------------------------------------\u001b[0m",
      "\u001b[1;31mNameError\u001b[0m                                 Traceback (most recent call last)",
      "\u001b[1;32m<ipython-input-99-a9848d1e3ec2>\u001b[0m in \u001b[0;36m<module>\u001b[1;34m()\u001b[0m\n\u001b[1;32m----> 1\u001b[1;33m \u001b[0mvoter\u001b[0m \u001b[1;33m=\u001b[0m \u001b[0mVotingClassifier\u001b[0m\u001b[1;33m(\u001b[0m\u001b[0mestimators\u001b[0m\u001b[1;33m=\u001b[0m\u001b[1;33m[\u001b[0m\u001b[1;33m(\u001b[0m\u001b[0mkey\u001b[0m\u001b[1;33m,\u001b[0m \u001b[0mvalue\u001b[0m\u001b[1;33m)\u001b[0m \u001b[1;32mfor\u001b[0m \u001b[0mx\u001b[0m \u001b[1;32min\u001b[0m \u001b[0mclassifiers\u001b[0m\u001b[1;33m.\u001b[0m\u001b[0mitems\u001b[0m\u001b[1;33m(\u001b[0m\u001b[1;33m)\u001b[0m\u001b[1;33m]\u001b[0m\u001b[1;33m,\u001b[0m \u001b[0mvoting\u001b[0m\u001b[1;33m=\u001b[0m\u001b[1;34m'soft'\u001b[0m\u001b[1;33m)\u001b[0m\u001b[1;33m\u001b[0m\u001b[0m\n\u001b[0m",
      "\u001b[1;32m<ipython-input-99-a9848d1e3ec2>\u001b[0m in \u001b[0;36m<listcomp>\u001b[1;34m(.0)\u001b[0m\n\u001b[1;32m----> 1\u001b[1;33m \u001b[0mvoter\u001b[0m \u001b[1;33m=\u001b[0m \u001b[0mVotingClassifier\u001b[0m\u001b[1;33m(\u001b[0m\u001b[0mestimators\u001b[0m\u001b[1;33m=\u001b[0m\u001b[1;33m[\u001b[0m\u001b[1;33m(\u001b[0m\u001b[0mkey\u001b[0m\u001b[1;33m,\u001b[0m \u001b[0mvalue\u001b[0m\u001b[1;33m)\u001b[0m \u001b[1;32mfor\u001b[0m \u001b[0mx\u001b[0m \u001b[1;32min\u001b[0m \u001b[0mclassifiers\u001b[0m\u001b[1;33m.\u001b[0m\u001b[0mitems\u001b[0m\u001b[1;33m(\u001b[0m\u001b[1;33m)\u001b[0m\u001b[1;33m]\u001b[0m\u001b[1;33m,\u001b[0m \u001b[0mvoting\u001b[0m\u001b[1;33m=\u001b[0m\u001b[1;34m'soft'\u001b[0m\u001b[1;33m)\u001b[0m\u001b[1;33m\u001b[0m\u001b[0m\n\u001b[0m",
      "\u001b[1;31mNameError\u001b[0m: name 'key' is not defined"
     ]
    }
   ],
   "source": [
    "voter = VotingClassifier(estimators=[(key, value) for x in classifiers.items()], voting='soft')"
   ]
  },
  {
   "cell_type": "code",
   "execution_count": 100,
   "metadata": {},
   "outputs": [],
   "source": [
    "classifiers = {\n",
    "    #\"XGBoost\": xgb.XGBClassifier(learning_rate=0.26, n_estimators=21)\n",
    "    \"Random Forest\": RandomForestClassifier(n_estimators=25)\n",
    "    ,\"AdaBoost\": AdaBoostClassifier()\n",
    "    ,\"Logistic Regression\": LogisticRegression(random_state=1)\n",
    "    ,\"Naive Bayes\": GaussianNB()\n",
    "    #,\"Linear SVM\": SVC(kernel=\"linear\", C=0.025, probability=True)\n",
    "    #,\"Gaussian SVM\": SVC(gamma=2, C=1, probability=True)\n",
    "    #,\"k-Nearest Neighbors\": KNeighborsClassifier(3)\n",
    "    #,\"Voting ensemble\": voter\n",
    "    }"
   ]
  },
  {
   "cell_type": "code",
   "execution_count": 105,
   "metadata": {},
   "outputs": [],
   "source": [
    "X = df[features].as_matrix()\n",
    "Y = df['Survived'].as_matrix()"
   ]
  },
  {
   "cell_type": "code",
   "execution_count": 106,
   "metadata": {
    "collapsed": true
   },
   "outputs": [],
   "source": [
    "X_train = X[:600]\n",
    "Y_train = Y[:600]\n",
    "X_test = X[601:]\n",
    "Y_test = Y[601:]"
   ]
  },
  {
   "cell_type": "code",
   "execution_count": 107,
   "metadata": {
    "scrolled": true
   },
   "outputs": [
    {
     "name": "stdout",
     "output_type": "stream",
     "text": [
      "Accuracy: 0.81 (+/- 0.03) [Random Forest]\n",
      "Accuracy: 0.75 (+/- 0.07) [AdaBoost]\n",
      "Accuracy: 0.82 (+/- 0.01) [Logistic Regression]\n",
      "Accuracy: 0.81 (+/- 0.02) [Naive Bayes]\n"
     ]
    }
   ],
   "source": [
    "for key, value in classifiers.items():\n",
    "    scores = cross_val_score(value, X, Y, cv=5, scoring='accuracy')\n",
    "    print(\"Accuracy: %0.2f (+/- %0.2f) [%s]\" % (scores.mean(), scores.std(), key))"
   ]
  },
  {
   "cell_type": "code",
   "execution_count": 108,
   "metadata": {
    "scrolled": true
   },
   "outputs": [
    {
     "name": "stdout",
     "output_type": "stream",
     "text": [
      "Fitting Random Forest classifier...\n",
      "Fitting AdaBoost classifier...\n",
      "Fitting Logistic Regression classifier...\n",
      "Fitting Naive Bayes classifier...\n"
     ]
    }
   ],
   "source": [
    "for key, value in classifiers.items():\n",
    "    print(\"Fitting \" + key + \" classifier...\")\n",
    "    value.fit(X_train, Y_train)"
   ]
  },
  {
   "cell_type": "code",
   "execution_count": 109,
   "metadata": {
    "collapsed": true
   },
   "outputs": [],
   "source": [
    "from sklearn.feature_selection import SelectFromModel"
   ]
  },
  {
   "cell_type": "code",
   "execution_count": 110,
   "metadata": {
    "collapsed": true
   },
   "outputs": [],
   "source": [
    "from sklearn.metrics import roc_curve, auc, accuracy_score"
   ]
  },
  {
   "cell_type": "code",
   "execution_count": 111,
   "metadata": {
    "collapsed": true
   },
   "outputs": [],
   "source": [
    "def plot_roc_curves(classifiers, X, Y):\n",
    "    plt.figure()\n",
    "    for key, value in classifiers.items():\n",
    "        fpr, tpr, thresholds = roc_curve(Y, value.predict_proba(X)[:,1])\n",
    "        roc_auc = auc(fpr, tpr)\n",
    "        acc = accuracy_score(Y, value.predict(X))\n",
    "        print(key + \" AUC: \" + str(roc_auc) + \" Accuracy: \" + str(acc))\n",
    "        plt.plot(fpr, tpr, lw=2, label=key + ' (AUC: %0.2f)' % roc_auc)\n",
    "\n",
    "    plt.plot([0, 1], [0, 1], color='navy', lw=2, linestyle='--')\n",
    "    plt.xlim([0.0, 1.0])\n",
    "    plt.ylim([0.0, 1.05])\n",
    "    plt.xlabel('False Positive Rate')\n",
    "    plt.ylabel('True Positive Rate')\n",
    "    plt.legend(loc=\"lower right\", prop={'size': 8})\n",
    "    plt.show()"
   ]
  },
  {
   "cell_type": "code",
   "execution_count": 112,
   "metadata": {},
   "outputs": [
    {
     "name": "stdout",
     "output_type": "stream",
     "text": [
      "Random Forest AUC: 0.848468468468 Accuracy: 0.813793103448\n",
      "AdaBoost AUC: 0.88296010296 Accuracy: 0.837931034483\n",
      "Logistic Regression AUC: 0.880154440154 Accuracy: 0.824137931034\n",
      "Naive Bayes AUC: 0.891634491634 Accuracy: 0.824137931034\n"
     ]
    },
    {
     "data": {
      "image/png": "[encoded data removed]",
      "text/plain": [
       "<matplotlib.figure.Figure at 0x23f2947d9e8>"
      ]
     },
     "metadata": {},
     "output_type": "display_data"
    }
   ],
   "source": [
    "plot_roc_curves(classifiers, X_test, Y_test)"
   ]
  },
  {
   "cell_type": "markdown",
   "metadata": {},
   "source": [
    "The cross-validation scores are very good. The best model is unsurprisingly XGBoost, with an accuracy of 0.855 and area under curve (AUC) of 0.912. More surprising is the fact that the Naive Bayes model is second best in terms of AUC, although its accuracy is significantly lower.\n",
    "\n",
    "Finally, we train the best model again on the entire training set."
   ]
  },
  {
   "cell_type": "code",
   "execution_count": 577,
   "metadata": {},
   "outputs": [
    {
     "data": {
      "text/plain": [
       "XGBClassifier(base_score=0.5, colsample_bylevel=1, colsample_bytree=1,\n",
       "       gamma=0, learning_rate=0.1, max_delta_step=0, max_depth=3,\n",
       "       min_child_weight=1, missing=None, n_estimators=100, nthread=-1,\n",
       "       objective='binary:logistic', reg_alpha=0, reg_lambda=1,\n",
       "       scale_pos_weight=1, seed=0, silent=True, subsample=1)"
      ]
     },
     "execution_count": 577,
     "metadata": {},
     "output_type": "execute_result"
    }
   ],
   "source": [
    "xg = xgb.XGBClassifier()\n",
    "xg.fit(X,Y)"
   ]
  },
  {
   "cell_type": "code",
   "execution_count": 114,
   "metadata": {},
   "outputs": [
    {
     "name": "stdout",
     "output_type": "stream",
     "text": [
      "Fitting Random Forest classifier...\n",
      "Fitting AdaBoost classifier...\n",
      "Fitting Logistic Regression classifier...\n",
      "Fitting Naive Bayes classifier...\n"
     ]
    }
   ],
   "source": [
    "for key, value in classifiers.items():\n",
    "    print(\"Fitting \" + key + \" classifier...\")\n",
    "    value.fit(X, Y)"
   ]
  },
  {
   "cell_type": "code",
   "execution_count": 115,
   "metadata": {
    "collapsed": true
   },
   "outputs": [],
   "source": [
    "X_final = df_test[features].as_matrix()"
   ]
  },
  {
   "cell_type": "code",
   "execution_count": 116,
   "metadata": {
    "collapsed": true
   },
   "outputs": [],
   "source": [
    "preds = pd.DataFrame(df_test['PassengerId'])"
   ]
  },
  {
   "cell_type": "code",
   "execution_count": 155,
   "metadata": {
    "scrolled": true
   },
   "outputs": [
    {
     "name": "stdout",
     "output_type": "stream",
     "text": [
      "Predicting with Random Forest classifier...\n",
      "Predicting with AdaBoost classifier...\n",
      "Predicting with Logistic Regression classifier...\n",
      "Predicting with Naive Bayes classifier...\n"
     ]
    }
   ],
   "source": [
    "for key, value in classifiers.items():\n",
    "    print(\"Predicting with \" + key + \" classifier...\")\n",
    "    preds[key] = value.predict_proba(X_final)[:,1]"
   ]
  },
  {
   "cell_type": "code",
   "execution_count": 156,
   "metadata": {
    "scrolled": true
   },
   "outputs": [],
   "source": [
    "preds['blend'] = (preds['Random Forest'] + 2*preds['AdaBoost'] + 2*preds['Logistic Regression'] + 2*preds['Naive Bayes'])/7"
   ]
  },
  {
   "cell_type": "code",
   "execution_count": 157,
   "metadata": {
    "collapsed": true
   },
   "outputs": [],
   "source": [
    "preds['predict'] = (preds['blend'] > 0.5).astype(int)"
   ]
  },
  {
   "cell_type": "code",
   "execution_count": 158,
   "metadata": {},
   "outputs": [],
   "source": [
    "submission = pd.DataFrame()\n",
    "submission['PassengerId'] = df_test['PassengerId']\n",
    "submission['Survived'] = preds['predict']\n",
    "submission.to_csv('submission.csv', index=False)"
   ]
  },
  {
   "cell_type": "code",
   "execution_count": 154,
   "metadata": {},
   "outputs": [
    {
     "data": {
      "text/plain": [
       "array([[ 0.50845568,  0.49154432],\n",
       "       [ 0.49978064,  0.50021936],\n",
       "       [ 0.50656873,  0.49343127],\n",
       "       [ 0.50935792,  0.49064208],\n",
       "       [ 0.49533583,  0.50466417],\n",
       "       [ 0.50935792,  0.49064208],\n",
       "       [ 0.49273194,  0.50726806],\n",
       "       [ 0.50435968,  0.49564032],\n",
       "       [ 0.49084437,  0.50915563],\n",
       "       [ 0.50747764,  0.49252236],\n",
       "       [ 0.50850209,  0.49149791],\n",
       "       [ 0.50791201,  0.49208799],\n",
       "       [ 0.479324  ,  0.520676  ],\n",
       "       [ 0.50468815,  0.49531185],\n",
       "       [ 0.4846181 ,  0.5153819 ],\n",
       "       [ 0.48670336,  0.51329664],\n",
       "       [ 0.50619387,  0.49380613],\n",
       "       [ 0.50661444,  0.49338556],\n",
       "       [ 0.49300288,  0.50699712],\n",
       "       [ 0.49410125,  0.50589875],\n",
       "       [ 0.50332614,  0.49667386],\n",
       "       [ 0.50714426,  0.49285574],\n",
       "       [ 0.48684318,  0.51315682],\n",
       "       [ 0.49981854,  0.50018146],\n",
       "       [ 0.4887484 ,  0.5112516 ],\n",
       "       [ 0.51461066,  0.48538934],\n",
       "       [ 0.47743945,  0.52256055],\n",
       "       [ 0.50661444,  0.49338556],\n",
       "       [ 0.49924632,  0.50075368],\n",
       "       [ 0.50558988,  0.49441012],\n",
       "       [ 0.50786679,  0.49213321],\n",
       "       [ 0.50435968,  0.49564032],\n",
       "       [ 0.49166106,  0.50833894],\n",
       "       [ 0.49170747,  0.50829253],\n",
       "       [ 0.49319603,  0.50680397],\n",
       "       [ 0.50661444,  0.49338556],\n",
       "       [ 0.49125515,  0.50874485],\n",
       "       [ 0.49358788,  0.50641212],\n",
       "       [ 0.50935792,  0.49064208],\n",
       "       [ 0.50307682,  0.49692318],\n",
       "       [ 0.51247413,  0.48752587],\n",
       "       [ 0.49949634,  0.50050366],\n",
       "       [ 0.51175837,  0.48824163],\n",
       "       [ 0.49047027,  0.50952973],\n",
       "       [ 0.48257689,  0.51742311],\n",
       "       [ 0.50702528,  0.49297472],\n",
       "       [ 0.49735826,  0.50264174],\n",
       "       [ 0.51175837,  0.48824163],\n",
       "       [ 0.48368121,  0.51631879],\n",
       "       [ 0.49436811,  0.50563189],\n",
       "       [ 0.49508385,  0.50491615],\n",
       "       [ 0.50435241,  0.49564759],\n",
       "       [ 0.48859029,  0.51140971],\n",
       "       [ 0.48712978,  0.51287022],\n",
       "       [ 0.50435241,  0.49564759],\n",
       "       [ 0.51229505,  0.48770495],\n",
       "       [ 0.50845568,  0.49154432],\n",
       "       [ 0.50187997,  0.49812003],\n",
       "       [ 0.50899389,  0.49100611],\n",
       "       [ 0.46923464,  0.53076536],\n",
       "       [ 0.50850209,  0.49149791],\n",
       "       [ 0.50504951,  0.49495049],\n",
       "       [ 0.50850209,  0.49149791],\n",
       "       [ 0.49273194,  0.50726806],\n",
       "       [ 0.49158192,  0.50841808],\n",
       "       [ 0.49009906,  0.50990094],\n",
       "       [ 0.49273194,  0.50726806],\n",
       "       [ 0.50791201,  0.49208799],\n",
       "       [ 0.49410088,  0.50589912],\n",
       "       [ 0.49512655,  0.50487345],\n",
       "       [ 0.49273194,  0.50726806],\n",
       "       [ 0.50850209,  0.49149791],\n",
       "       [ 0.49125515,  0.50874485],\n",
       "       [ 0.49410088,  0.50589912],\n",
       "       [ 0.48126142,  0.51873858],\n",
       "       [ 0.49702416,  0.50297584],\n",
       "       [ 0.50702528,  0.49297472],\n",
       "       [ 0.48547711,  0.51452289],\n",
       "       [ 0.50624028,  0.49375972],\n",
       "       [ 0.49273194,  0.50726806],\n",
       "       [ 0.49182272,  0.50817728],\n",
       "       [ 0.59844183,  0.40155817],\n",
       "       [ 0.50611896,  0.49388104],\n",
       "       [ 0.50850209,  0.49149791],\n",
       "       [ 0.50949709,  0.49050291],\n",
       "       [ 0.50921805,  0.49078195],\n",
       "       [ 0.49273194,  0.50726806],\n",
       "       [ 0.49125515,  0.50874485],\n",
       "       [ 0.49273194,  0.50726806],\n",
       "       [ 0.49678488,  0.50321512],\n",
       "       [ 0.49533583,  0.50466417],\n",
       "       [ 0.50850209,  0.49149791],\n",
       "       [ 0.48197319,  0.51802681],\n",
       "       [ 0.50702528,  0.49297472],\n",
       "       [ 0.50072354,  0.49927646],\n",
       "       [ 0.50850209,  0.49149791],\n",
       "       [ 0.5777146 ,  0.4222854 ],\n",
       "       [ 0.50702528,  0.49297472],\n",
       "       [ 0.49273194,  0.50726806],\n",
       "       [ 0.50697886,  0.49302114],\n",
       "       [ 0.48069136,  0.51930864],\n",
       "       [ 0.50435968,  0.49564032],\n",
       "       [ 0.51175837,  0.48824163],\n",
       "       [ 0.50850209,  0.49149791],\n",
       "       [ 0.49344799,  0.50655201],\n",
       "       [ 0.50572978,  0.49427022],\n",
       "       [ 0.50850209,  0.49149791],\n",
       "       [ 0.51175837,  0.48824163],\n",
       "       [ 0.50935792,  0.49064208],\n",
       "       [ 0.49961767,  0.50038233],\n",
       "       [ 0.50760956,  0.49239044],\n",
       "       [ 0.49273194,  0.50726806],\n",
       "       [ 0.47829635,  0.52170365],\n",
       "       [ 0.49273194,  0.50726806],\n",
       "       [ 0.48526808,  0.51473192],\n",
       "       [ 0.50921805,  0.49078195],\n",
       "       [ 0.51288844,  0.48711156],\n",
       "       [ 0.47902909,  0.52097091],\n",
       "       [ 0.49140187,  0.50859813],\n",
       "       [ 0.48859029,  0.51140971],\n",
       "       [ 0.48954924,  0.51045076],\n",
       "       [ 0.51024964,  0.48975036],\n",
       "       [ 0.47739313,  0.52260687],\n",
       "       [ 0.50850209,  0.49149791],\n",
       "       [ 0.51175837,  0.48824163],\n",
       "       [ 0.49441453,  0.50558547],\n",
       "       [ 0.50850209,  0.49149791],\n",
       "       [ 0.49170747,  0.50829253],\n",
       "       [ 0.50949709,  0.49050291],\n",
       "       [ 0.50702528,  0.49297472],\n",
       "       [ 0.50583455,  0.49416545],\n",
       "       [ 0.48818124,  0.51181876],\n",
       "       [ 0.50595498,  0.49404502],\n",
       "       [ 0.51468166,  0.48531834],\n",
       "       [ 0.51175837,  0.48824163],\n",
       "       [ 0.50850209,  0.49149791],\n",
       "       [ 0.50661444,  0.49338556],\n",
       "       [ 0.50624028,  0.49375972],\n",
       "       [ 0.49125515,  0.50874485],\n",
       "       [ 0.5249636 ,  0.4750364 ],\n",
       "       [ 0.50595498,  0.49404502],\n",
       "       [ 0.48976508,  0.51023492],\n",
       "       [ 0.50900882,  0.49099118],\n",
       "       [ 0.5026116 ,  0.4973884 ],\n",
       "       [ 0.50586898,  0.49413102],\n",
       "       [ 0.51018437,  0.48981563],\n",
       "       [ 0.49949634,  0.50050366],\n",
       "       [ 0.50702528,  0.49297472],\n",
       "       [ 0.50611896,  0.49388104],\n",
       "       [ 0.49493075,  0.50506925],\n",
       "       [ 0.47743945,  0.52256055],\n",
       "       [ 0.50656803,  0.49343197],\n",
       "       [ 0.52280941,  0.47719059],\n",
       "       [ 0.49528941,  0.50471059],\n",
       "       [ 0.51229505,  0.48770495],\n",
       "       [ 0.50850209,  0.49149791],\n",
       "       [ 0.48319348,  0.51680652],\n",
       "       [ 0.49273194,  0.50726806],\n",
       "       [ 0.49924632,  0.50075368],\n",
       "       [ 0.49533583,  0.50466417],\n",
       "       [ 0.49273194,  0.50726806],\n",
       "       [ 0.49978988,  0.50021012],\n",
       "       [ 0.49047027,  0.50952973],\n",
       "       [ 0.50845568,  0.49154432],\n",
       "       [ 0.50006901,  0.49993099],\n",
       "       [ 0.49170747,  0.50829253],\n",
       "       [ 0.49760827,  0.50239173],\n",
       "       [ 0.52171308,  0.47828692],\n",
       "       [ 0.48821187,  0.51178813],\n",
       "       [ 0.49358788,  0.50641212],\n",
       "       [ 0.50845568,  0.49154432],\n",
       "       [ 0.50661444,  0.49338556],\n",
       "       [ 0.51110535,  0.48889465],\n",
       "       [ 0.50661444,  0.49338556],\n",
       "       [ 0.5249636 ,  0.4750364 ],\n",
       "       [ 0.48859029,  0.51140971],\n",
       "       [ 0.48684318,  0.51315682],\n",
       "       [ 0.4967033 ,  0.5032967 ],\n",
       "       [ 0.48192683,  0.51807317],\n",
       "       [ 0.57587105,  0.42412895],\n",
       "       [ 0.50624028,  0.49375972],\n",
       "       [ 0.49645329,  0.50354671],\n",
       "       [ 0.479324  ,  0.520676  ],\n",
       "       [ 0.51175837,  0.48824163],\n",
       "       [ 0.48305372,  0.51694628],\n",
       "       [ 0.50857599,  0.49142401],\n",
       "       [ 0.48859029,  0.51140971],\n",
       "       [ 0.508773  ,  0.491227  ],\n",
       "       [ 0.50330204,  0.49669796],\n",
       "       [ 0.50949709,  0.49050291],\n",
       "       [ 0.50431326,  0.49568674],\n",
       "       [ 0.50611896,  0.49388104],\n",
       "       [ 0.50167796,  0.49832204],\n",
       "       [ 0.51423621,  0.48576379],\n",
       "       [ 0.49493075,  0.50506925],\n",
       "       [ 0.50845568,  0.49154432],\n",
       "       [ 0.47581738,  0.52418262],\n",
       "       [ 0.49273194,  0.50726806],\n",
       "       [ 0.50624028,  0.49375972],\n",
       "       [ 0.49125515,  0.50874485],\n",
       "       [ 0.49358788,  0.50641212],\n",
       "       [ 0.32094617,  0.67905383],\n",
       "       [ 0.49469074,  0.50530926],\n",
       "       [ 0.48859029,  0.51140971],\n",
       "       [ 0.50624028,  0.49375972],\n",
       "       [ 0.50398108,  0.49601892],\n",
       "       [ 0.49268553,  0.50731447],\n",
       "       [ 0.50624028,  0.49375972],\n",
       "       [ 0.47829635,  0.52170365],\n",
       "       [ 0.50850209,  0.49149791],\n",
       "       [ 0.50453898,  0.49546102],\n",
       "       [ 0.50850209,  0.49149791],\n",
       "       [ 0.49995845,  0.50004155],\n",
       "       [ 0.49658781,  0.50341219],\n",
       "       [ 0.51198347,  0.48801653],\n",
       "       [ 0.49924632,  0.50075368],\n",
       "       [ 0.49273194,  0.50726806],\n",
       "       [ 0.51532438,  0.48467562],\n",
       "       [ 0.48655812,  0.51344188],\n",
       "       [ 0.50702528,  0.49297472],\n",
       "       [ 0.49033041,  0.50966959],\n",
       "       [ 0.50702528,  0.49297472],\n",
       "       [ 0.48385181,  0.51614819],\n",
       "       [ 0.50850209,  0.49149791],\n",
       "       [ 0.48846175,  0.51153825],\n",
       "       [ 0.49344799,  0.50655201],\n",
       "       [ 0.50850209,  0.49149791],\n",
       "       [ 0.49273194,  0.50726806],\n",
       "       [ 0.51261396,  0.48738604],\n",
       "       [ 0.50619387,  0.49380613],\n",
       "       [ 0.49995845,  0.50004155],\n",
       "       [ 0.48684318,  0.51315682],\n",
       "       [ 0.5165679 ,  0.4834321 ],\n",
       "       [ 0.51175837,  0.48824163],\n",
       "       [ 0.49645329,  0.50354671],\n",
       "       [ 0.50850209,  0.49149791],\n",
       "       [ 0.59120093,  0.40879907],\n",
       "       [ 0.50661444,  0.49338556],\n",
       "       [ 0.49221791,  0.50778209],\n",
       "       [ 0.48094101,  0.51905899],\n",
       "       [ 0.48846175,  0.51153825],\n",
       "       [ 0.49184665,  0.50815335],\n",
       "       [ 0.49645329,  0.50354671],\n",
       "       [ 0.50850209,  0.49149791],\n",
       "       [ 0.49804899,  0.50195101],\n",
       "       [ 0.50099448,  0.49900552],\n",
       "       [ 0.48684318,  0.51315682],\n",
       "       [ 0.50761683,  0.49238317],\n",
       "       [ 0.48859029,  0.51140971],\n",
       "       [ 0.49344799,  0.50655201],\n",
       "       [ 0.30964369,  0.69035631],\n",
       "       [ 0.50702528,  0.49297472],\n",
       "       [ 0.49319603,  0.50680397],\n",
       "       [ 0.50935792,  0.49064208],\n",
       "       [ 0.50931151,  0.49068849],\n",
       "       [ 0.50845568,  0.49154432],\n",
       "       [ 0.51175837,  0.48824163],\n",
       "       [ 0.50702528,  0.49297472],\n",
       "       [ 0.49047027,  0.50952973],\n",
       "       [ 0.50850209,  0.49149791],\n",
       "       [ 0.51344017,  0.48655983],\n",
       "       [ 0.50850209,  0.49149791],\n",
       "       [ 0.48859029,  0.51140971],\n",
       "       [ 0.48656434,  0.51343566],\n",
       "       [ 0.50435241,  0.49564759],\n",
       "       [ 0.50850209,  0.49149791],\n",
       "       [ 0.51496055,  0.48503945],\n",
       "       [ 0.50845568,  0.49154432],\n",
       "       [ 0.49125515,  0.50874485],\n",
       "       [ 0.50935792,  0.49064208],\n",
       "       [ 0.49674853,  0.50325147],\n",
       "       [ 0.51175837,  0.48824163],\n",
       "       [ 0.47743945,  0.52256055],\n",
       "       [ 0.49414504,  0.50585496],\n",
       "       [ 0.50656803,  0.49343197],\n",
       "       [ 0.48859029,  0.51140971],\n",
       "       [ 0.50624028,  0.49375972],\n",
       "       [ 0.50761683,  0.49238317],\n",
       "       [ 0.50435968,  0.49564032],\n",
       "       [ 0.50624028,  0.49375972],\n",
       "       [ 0.49358788,  0.50641212],\n",
       "       [ 0.32094617,  0.67905383],\n",
       "       [ 0.49273194,  0.50726806],\n",
       "       [ 0.49344799,  0.50655201],\n",
       "       [ 0.49356133,  0.50643867],\n",
       "       [ 0.50845568,  0.49154432],\n",
       "       [ 0.50850209,  0.49149791],\n",
       "       [ 0.49508385,  0.50491615],\n",
       "       [ 0.4999919 ,  0.5000081 ],\n",
       "       [ 0.50702528,  0.49297472],\n",
       "       [ 0.50586898,  0.49413102],\n",
       "       [ 0.49905432,  0.50094568],\n",
       "       [ 0.50661444,  0.49338556],\n",
       "       [ 0.48916382,  0.51083618],\n",
       "       [ 0.50931151,  0.49068849],\n",
       "       [ 0.50850209,  0.49149791],\n",
       "       [ 0.47793997,  0.52206003],\n",
       "       [ 0.50558988,  0.49441012],\n",
       "       [ 0.5026116 ,  0.4973884 ],\n",
       "       [ 0.50850209,  0.49149791],\n",
       "       [ 0.50731147,  0.49268853],\n",
       "       [ 0.49772961,  0.50227039],\n",
       "       [ 0.50761683,  0.49238317],\n",
       "       [ 0.50935792,  0.49064208],\n",
       "       [ 0.49273194,  0.50726806],\n",
       "       [ 0.58030151,  0.41969849],\n",
       "       [ 0.50070679,  0.49929321],\n",
       "       [ 0.32094617,  0.67905383],\n",
       "       [ 0.49859134,  0.50140866],\n",
       "       [ 0.49859332,  0.50140668],\n",
       "       [ 0.50935792,  0.49064208],\n",
       "       [ 0.50661444,  0.49338556],\n",
       "       [ 0.50845568,  0.49154432],\n",
       "       [ 0.49598914,  0.50401086],\n",
       "       [ 0.47919562,  0.52080438],\n",
       "       [ 0.49273194,  0.50726806],\n",
       "       [ 0.50119506,  0.49880494],\n",
       "       [ 0.50624028,  0.49375972],\n",
       "       [ 0.50850209,  0.49149791],\n",
       "       [ 0.50435968,  0.49564032],\n",
       "       [ 0.50850209,  0.49149791],\n",
       "       [ 0.4999919 ,  0.5000081 ],\n",
       "       [ 0.49961767,  0.50038233],\n",
       "       [ 0.50256518,  0.49743482],\n",
       "       [ 0.49306815,  0.50693185],\n",
       "       [ 0.50850209,  0.49149791],\n",
       "       [ 0.48197319,  0.51802681],\n",
       "       [ 0.50337136,  0.49662864],\n",
       "       [ 0.50435968,  0.49564032],\n",
       "       [ 0.50624028,  0.49375972],\n",
       "       [ 0.49209661,  0.50790339],\n",
       "       [ 0.49735826,  0.50264174],\n",
       "       [ 0.50656803,  0.49343197],\n",
       "       [ 0.49252677,  0.50747323],\n",
       "       [ 0.50850209,  0.49149791],\n",
       "       [ 0.49598878,  0.50401122],\n",
       "       [ 0.50504951,  0.49495049],\n",
       "       [ 0.51161853,  0.48838147],\n",
       "       [ 0.5026116 ,  0.4973884 ],\n",
       "       [ 0.49718564,  0.50281436],\n",
       "       [ 0.50624028,  0.49375972],\n",
       "       [ 0.50731147,  0.49268853],\n",
       "       [ 0.51906433,  0.48093567],\n",
       "       [ 0.47900212,  0.52099788],\n",
       "       [ 0.50493543,  0.49506457],\n",
       "       [ 0.49273194,  0.50726806],\n",
       "       [ 0.50624028,  0.49375972],\n",
       "       [ 0.49410125,  0.50589875],\n",
       "       [ 0.50624028,  0.49375972],\n",
       "       [ 0.48684318,  0.51315682],\n",
       "       [ 0.48069136,  0.51930864],\n",
       "       [ 0.50624028,  0.49375972],\n",
       "       [ 0.49995845,  0.50004155],\n",
       "       [ 0.50521408,  0.49478592],\n",
       "       [ 0.31231642,  0.68768358],\n",
       "       [ 0.49949634,  0.50050366],\n",
       "       [ 0.48996618,  0.51003382],\n",
       "       [ 0.50850209,  0.49149791],\n",
       "       [ 0.51175837,  0.48824163],\n",
       "       [ 0.49533583,  0.50466417],\n",
       "       [ 0.50964316,  0.49035684],\n",
       "       [ 0.48670336,  0.51329664],\n",
       "       [ 0.48684318,  0.51315682],\n",
       "       [ 0.50935792,  0.49064208],\n",
       "       [ 0.47743945,  0.52256055],\n",
       "       [ 0.50330204,  0.49669796],\n",
       "       [ 0.50921805,  0.49078195],\n",
       "       [ 0.4899599 ,  0.5100401 ],\n",
       "       [ 0.48730741,  0.51269259],\n",
       "       [ 0.50435241,  0.49564759],\n",
       "       [ 0.50798809,  0.49201191],\n",
       "       [ 0.47569513,  0.52430487],\n",
       "       [ 0.50859126,  0.49140874],\n",
       "       [ 0.50949709,  0.49050291],\n",
       "       [ 0.48282661,  0.51717339],\n",
       "       [ 0.47913483,  0.52086517],\n",
       "       [ 0.49533583,  0.50466417],\n",
       "       [ 0.50624028,  0.49375972],\n",
       "       [ 0.49949634,  0.50050366],\n",
       "       [ 0.50432953,  0.49567047],\n",
       "       [ 0.51175837,  0.48824163],\n",
       "       [ 0.50850209,  0.49149791],\n",
       "       [ 0.49358788,  0.50641212],\n",
       "       [ 0.49441453,  0.50558547],\n",
       "       [ 0.50619387,  0.49380613],\n",
       "       [ 0.48593884,  0.51406116],\n",
       "       [ 0.50850209,  0.49149791],\n",
       "       [ 0.51423621,  0.48576379],\n",
       "       [ 0.50850209,  0.49149791],\n",
       "       [ 0.50432953,  0.49567047],\n",
       "       [ 0.49333592,  0.50666408],\n",
       "       [ 0.48547711,  0.51452289],\n",
       "       [ 0.49804899,  0.50195101],\n",
       "       [ 0.5115396 ,  0.4884604 ],\n",
       "       [ 0.52171308,  0.47828692],\n",
       "       [ 0.479324  ,  0.520676  ],\n",
       "       [ 0.50850209,  0.49149791],\n",
       "       [ 0.48094101,  0.51905899],\n",
       "       [ 0.50850209,  0.49149791],\n",
       "       [ 0.50850209,  0.49149791],\n",
       "       [ 0.48319348,  0.51680652],\n",
       "       [ 0.50761683,  0.49238317],\n",
       "       [ 0.48405247,  0.51594753],\n",
       "       [ 0.5026116 ,  0.4973884 ],\n",
       "       [ 0.4991064 ,  0.5008936 ],\n",
       "       [ 0.49772961,  0.50227039],\n",
       "       [ 0.50798809,  0.49201191],\n",
       "       [ 0.50232634,  0.49767366],\n",
       "       [ 0.49273194,  0.50726806],\n",
       "       [ 0.48737049,  0.51262951],\n",
       "       [ 0.49273194,  0.50726806],\n",
       "       [ 0.48257689,  0.51742311],\n",
       "       [ 0.49273194,  0.50726806],\n",
       "       [ 0.50702528,  0.49297472],\n",
       "       [ 0.48211363,  0.51788637],\n",
       "       [ 0.51175837,  0.48824163],\n",
       "       [ 0.50702528,  0.49297472],\n",
       "       [ 0.49616097,  0.50383903]])"
      ]
     },
     "execution_count": 154,
     "metadata": {},
     "output_type": "execute_result"
    }
   ],
   "source": [
    "classifiers['AdaBoost'].predict_proba(X_final)"
   ]
  },
  {
   "cell_type": "code",
   "execution_count": 120,
   "metadata": {
    "scrolled": true
   },
   "outputs": [
    {
     "data": {
      "text/plain": [
       "(418, 21)"
      ]
     },
     "execution_count": 120,
     "metadata": {},
     "output_type": "execute_result"
    }
   ],
   "source": [
    "X_final.shape"
   ]
  },
  {
   "cell_type": "code",
   "execution_count": 139,
   "metadata": {},
   "outputs": [
    {
     "data": {
      "text/plain": [
       "False"
      ]
     },
     "execution_count": 139,
     "metadata": {},
     "output_type": "execute_result"
    }
   ],
   "source": [
    "np.any(np.isnan(X_final))"
   ]
  },
  {
   "cell_type": "code",
   "execution_count": 137,
   "metadata": {},
   "outputs": [],
   "source": [
    "X_final[152][0] = 0\n",
    "X_final[152][14] = 0"
   ]
  },
  {
   "cell_type": "code",
   "execution_count": 123,
   "metadata": {},
   "outputs": [
    {
     "data": {
      "text/plain": [
       "array([[  7.8292,   1.    ,   0.    , ...,   0.    ,   0.    ,   0.    ],\n",
       "       [  7.    ,   0.    ,   1.    , ...,   1.    ,   0.    ,   0.    ],\n",
       "       [  9.6875,   1.    ,   0.    , ...,   0.    ,   0.    ,   0.    ],\n",
       "       ..., \n",
       "       [  7.25  ,   1.    ,   0.    , ...,   0.    ,   0.    ,   1.    ],\n",
       "       [  8.05  ,   1.    ,   0.    , ...,   0.    ,   0.    ,   0.    ],\n",
       "       [ 22.3583,   0.    ,   1.    , ...,   0.    ,   1.    ,   0.    ]])"
      ]
     },
     "execution_count": 123,
     "metadata": {},
     "output_type": "execute_result"
    }
   ],
   "source": [
    "X_final"
   ]
  },
  {
   "cell_type": "code",
   "execution_count": 736,
   "metadata": {},
   "outputs": [],
   "source": [
    "def submit(predictor):\n",
    "    submission = pd.DataFrame()\n",
    "    submission['PassengerId'] = df_test['PassengerId']\n",
    "    submission['Survived'] = predictor.predict(X_final)\n",
    "    submission.to_csv('submission.csv', index=False)"
   ]
  },
  {
   "cell_type": "markdown",
   "metadata": {},
   "source": [
    "<h2>Feature selection</h2>"
   ]
  },
  {
   "cell_type": "code",
   "execution_count": 854,
   "metadata": {},
   "outputs": [],
   "source": [
    "importances = pd.DataFrame()\n",
    "importances['Feature'] = features\n",
    "importances['Importance'] = classifiers['XGBoost'].feature_importances_"
   ]
  },
  {
   "cell_type": "code",
   "execution_count": 855,
   "metadata": {
    "scrolled": false
   },
   "outputs": [
    {
     "data": {
      "text/html": [
       "<div>\n",
       "<table border=\"1\" class=\"dataframe\">\n",
       "  <thead>\n",
       "    <tr style=\"text-align: right;\">\n",
       "      <th></th>\n",
       "      <th>Feature</th>\n",
       "      <th>Importance</th>\n",
       "    </tr>\n",
       "  </thead>\n",
       "  <tbody>\n",
       "    <tr>\n",
       "      <th>13</th>\n",
       "      <td>Fare</td>\n",
       "      <td>0.226950</td>\n",
       "    </tr>\n",
       "    <tr>\n",
       "      <th>11</th>\n",
       "      <td>Age</td>\n",
       "      <td>0.205674</td>\n",
       "    </tr>\n",
       "    <tr>\n",
       "      <th>14</th>\n",
       "      <td>PassengerId</td>\n",
       "      <td>0.198582</td>\n",
       "    </tr>\n",
       "    <tr>\n",
       "      <th>0</th>\n",
       "      <td>Sex_male</td>\n",
       "      <td>0.056738</td>\n",
       "    </tr>\n",
       "    <tr>\n",
       "      <th>15</th>\n",
       "      <td>HasCabin</td>\n",
       "      <td>0.056738</td>\n",
       "    </tr>\n",
       "    <tr>\n",
       "      <th>4</th>\n",
       "      <td>Pclass_3</td>\n",
       "      <td>0.056738</td>\n",
       "    </tr>\n",
       "    <tr>\n",
       "      <th>16</th>\n",
       "      <td>Mr</td>\n",
       "      <td>0.042553</td>\n",
       "    </tr>\n",
       "    <tr>\n",
       "      <th>10</th>\n",
       "      <td>Family_large</td>\n",
       "      <td>0.042553</td>\n",
       "    </tr>\n",
       "    <tr>\n",
       "      <th>19</th>\n",
       "      <td>Scandinavian</td>\n",
       "      <td>0.042553</td>\n",
       "    </tr>\n",
       "    <tr>\n",
       "      <th>9</th>\n",
       "      <td>Family_small</td>\n",
       "      <td>0.021277</td>\n",
       "    </tr>\n",
       "    <tr>\n",
       "      <th>5</th>\n",
       "      <td>Embarked_S</td>\n",
       "      <td>0.021277</td>\n",
       "    </tr>\n",
       "    <tr>\n",
       "      <th>8</th>\n",
       "      <td>Family_no</td>\n",
       "      <td>0.014184</td>\n",
       "    </tr>\n",
       "    <tr>\n",
       "      <th>7</th>\n",
       "      <td>Embarked_Q</td>\n",
       "      <td>0.007092</td>\n",
       "    </tr>\n",
       "    <tr>\n",
       "      <th>6</th>\n",
       "      <td>Embarked_C</td>\n",
       "      <td>0.007092</td>\n",
       "    </tr>\n",
       "    <tr>\n",
       "      <th>1</th>\n",
       "      <td>Sex_female</td>\n",
       "      <td>0.000000</td>\n",
       "    </tr>\n",
       "    <tr>\n",
       "      <th>12</th>\n",
       "      <td>Age_imputed</td>\n",
       "      <td>0.000000</td>\n",
       "    </tr>\n",
       "    <tr>\n",
       "      <th>3</th>\n",
       "      <td>Pclass_2</td>\n",
       "      <td>0.000000</td>\n",
       "    </tr>\n",
       "    <tr>\n",
       "      <th>2</th>\n",
       "      <td>Pclass_1</td>\n",
       "      <td>0.000000</td>\n",
       "    </tr>\n",
       "    <tr>\n",
       "      <th>17</th>\n",
       "      <td>Ms</td>\n",
       "      <td>0.000000</td>\n",
       "    </tr>\n",
       "    <tr>\n",
       "      <th>18</th>\n",
       "      <td>Other_title</td>\n",
       "      <td>0.000000</td>\n",
       "    </tr>\n",
       "  </tbody>\n",
       "</table>\n",
       "</div>"
      ],
      "text/plain": [
       "         Feature  Importance\n",
       "13          Fare    0.226950\n",
       "11           Age    0.205674\n",
       "14   PassengerId    0.198582\n",
       "0       Sex_male    0.056738\n",
       "15      HasCabin    0.056738\n",
       "4       Pclass_3    0.056738\n",
       "16            Mr    0.042553\n",
       "10  Family_large    0.042553\n",
       "19  Scandinavian    0.042553\n",
       "9   Family_small    0.021277\n",
       "5     Embarked_S    0.021277\n",
       "8      Family_no    0.014184\n",
       "7     Embarked_Q    0.007092\n",
       "6     Embarked_C    0.007092\n",
       "1     Sex_female    0.000000\n",
       "12   Age_imputed    0.000000\n",
       "3       Pclass_2    0.000000\n",
       "2       Pclass_1    0.000000\n",
       "17            Ms    0.000000\n",
       "18   Other_title    0.000000"
      ]
     },
     "execution_count": 855,
     "metadata": {},
     "output_type": "execute_result"
    }
   ],
   "source": [
    "importances.sort_values('Importance', ascending=False)"
   ]
  },
  {
   "cell_type": "code",
   "execution_count": 872,
   "metadata": {
    "scrolled": true
   },
   "outputs": [],
   "source": [
    "df_select = df[features].drop(['Sex_female', 'Age_imputed', 'Pclass_2', 'Pclass_1', 'Ms', 'Other_title', 'Embarked_Q', 'Embarked_C', 'Family_no'],1)"
   ]
  },
  {
   "cell_type": "code",
   "execution_count": 873,
   "metadata": {
    "collapsed": true
   },
   "outputs": [],
   "source": [
    "X_select = df_select.as_matrix()\n",
    "X_select_train = X_select[:600]\n",
    "X_select_test = X_select[601:]"
   ]
  },
  {
   "cell_type": "code",
   "execution_count": 874,
   "metadata": {
    "scrolled": true
   },
   "outputs": [
    {
     "name": "stdout",
     "output_type": "stream",
     "text": [
      "Fitting XGBoost classifier...\n",
      "Fitting Random Forest classifier...\n",
      "Fitting Voting ensemble classifier...\n",
      "Fitting AdaBoost classifier...\n",
      "Fitting Naive Bayes classifier...\n",
      "Fitting Logistic Regression classifier...\n"
     ]
    }
   ],
   "source": [
    "for key, value in classifiers.items():\n",
    "    print(\"Fitting \" + key + \" classifier...\")\n",
    "    value.fit(X_select_train, Y_train)"
   ]
  },
  {
   "cell_type": "code",
   "execution_count": 875,
   "metadata": {},
   "outputs": [
    {
     "name": "stdout",
     "output_type": "stream",
     "text": [
      "XGBoost AUC: 0.905070785071 Accuracy: 0.858620689655\n",
      "Random Forest AUC: 0.882496782497 Accuracy: 0.834482758621\n",
      "Voting ensemble AUC: 0.893075933076 Accuracy: 0.834482758621\n",
      "AdaBoost AUC: 0.871196911197 Accuracy: 0.365517241379\n",
      "Naive Bayes AUC: 0.893075933076 Accuracy: 0.834482758621\n",
      "Logistic Regression AUC: 0.880617760618 Accuracy: 0.831034482759\n"
     ]
    },
    {
     "data": {
      "image/png": "[encoded data removed]",
      "text/plain": [
       "<matplotlib.figure.Figure at 0x1f2ac152860>"
      ]
     },
     "metadata": {},
     "output_type": "display_data"
    }
   ],
   "source": [
    "plot_roc_curves(classifiers, X_select_test, Y_test)"
   ]
  },
  {
   "cell_type": "code",
   "execution_count": 877,
   "metadata": {
    "collapsed": true
   },
   "outputs": [],
   "source": [
    "X_select_final = df_test[features].drop(['Sex_female', 'Age_imputed', 'Pclass_2', 'Pclass_1', 'Ms', 'Other_title', 'Embarked_Q', 'Embarked_C', 'Family_no'],1).as_matrix()"
   ]
  },
  {
   "cell_type": "code",
   "execution_count": 880,
   "metadata": {},
   "outputs": [
    {
     "data": {
      "text/plain": [
       "XGBClassifier(base_score=0.5, colsample_bylevel=1, colsample_bytree=1,\n",
       "       gamma=0, learning_rate=0.1, max_delta_step=0, max_depth=3,\n",
       "       min_child_weight=1, missing=None, n_estimators=100, nthread=-1,\n",
       "       objective='binary:logistic', reg_alpha=0, reg_lambda=1,\n",
       "       scale_pos_weight=1, seed=0, silent=True, subsample=1)"
      ]
     },
     "execution_count": 880,
     "metadata": {},
     "output_type": "execute_result"
    }
   ],
   "source": [
    "xg = xgb.XGBClassifier()\n",
    "xg.fit(X_select,Y)"
   ]
  },
  {
   "cell_type": "code",
   "execution_count": 881,
   "metadata": {},
   "outputs": [],
   "source": [
    "submission = pd.DataFrame()\n",
    "submission['PassengerId'] = df_test['PassengerId']\n",
    "submission['Survived'] = xg.predict(X_select_final)\n",
    "submission.to_csv('D:\\\\ML\\\\Titanic\\\\submission.csv', index=False)"
   ]
  },
  {
   "cell_type": "markdown",
   "metadata": {},
   "source": [
    "<h2>Hyperparameter tuning</h2>"
   ]
  },
  {
   "cell_type": "code",
   "execution_count": 720,
   "metadata": {
    "scrolled": true
   },
   "outputs": [],
   "source": [
    "m = []\n",
    "\n",
    "lr = 0.3\n",
    "n = 100\n",
    "\n",
    "for lr in range(1, 41):\n",
    "    for n in range(1,201,10):\n",
    "        xg = xgb.XGBClassifier(learning_rate=lr/100, n_estimators=n)\n",
    "        xg.fit(X_train,Y_train)\n",
    "\n",
    "        fpr, tpr, thresholds = roc_curve(Y_test, xg.predict_proba(X_test)[:,1])\n",
    "        roc_auc = auc(fpr, tpr)\n",
    "        acc = accuracy_score(Y_test, xg.predict(X_test))\n",
    "        results = [lr, n, roc_auc, acc]\n",
    "        m.append(results)"
   ]
  },
  {
   "cell_type": "code",
   "execution_count": 721,
   "metadata": {},
   "outputs": [],
   "source": [
    "m_df = pd.DataFrame(m)"
   ]
  },
  {
   "cell_type": "code",
   "execution_count": 722,
   "metadata": {},
   "outputs": [],
   "source": [
    "m_df.columns = ['eta', 'estimators', 'AUC', 'Acc']"
   ]
  },
  {
   "cell_type": "code",
   "execution_count": 723,
   "metadata": {
    "collapsed": true
   },
   "outputs": [],
   "source": [
    "m_df['Combined'] = m_df['AUC']+m_df['Acc']"
   ]
  },
  {
   "cell_type": "code",
   "execution_count": 724,
   "metadata": {
    "scrolled": true
   },
   "outputs": [
    {
     "data": {
      "text/html": [
       "<div>\n",
       "<table border=\"1\" class=\"dataframe\">\n",
       "  <thead>\n",
       "    <tr style=\"text-align: right;\">\n",
       "      <th></th>\n",
       "      <th>eta</th>\n",
       "      <th>estimators</th>\n",
       "      <th>AUC</th>\n",
       "      <th>Acc</th>\n",
       "      <th>Combined</th>\n",
       "    </tr>\n",
       "  </thead>\n",
       "  <tbody>\n",
       "    <tr>\n",
       "      <th>402</th>\n",
       "      <td>21</td>\n",
       "      <td>21</td>\n",
       "      <td>0.905277</td>\n",
       "      <td>0.865517</td>\n",
       "      <td>1.770794</td>\n",
       "    </tr>\n",
       "    <tr>\n",
       "      <th>502</th>\n",
       "      <td>26</td>\n",
       "      <td>21</td>\n",
       "      <td>0.911789</td>\n",
       "      <td>0.855172</td>\n",
       "      <td>1.766961</td>\n",
       "    </tr>\n",
       "    <tr>\n",
       "      <th>190</th>\n",
       "      <td>10</td>\n",
       "      <td>101</td>\n",
       "      <td>0.900746</td>\n",
       "      <td>0.865517</td>\n",
       "      <td>1.766264</td>\n",
       "    </tr>\n",
       "    <tr>\n",
       "      <th>504</th>\n",
       "      <td>26</td>\n",
       "      <td>41</td>\n",
       "      <td>0.910219</td>\n",
       "      <td>0.855172</td>\n",
       "      <td>1.765391</td>\n",
       "    </tr>\n",
       "    <tr>\n",
       "      <th>662</th>\n",
       "      <td>34</td>\n",
       "      <td>21</td>\n",
       "      <td>0.905997</td>\n",
       "      <td>0.858621</td>\n",
       "      <td>1.764618</td>\n",
       "    </tr>\n",
       "  </tbody>\n",
       "</table>\n",
       "</div>"
      ],
      "text/plain": [
       "     eta  estimators       AUC       Acc  Combined\n",
       "402   21          21  0.905277  0.865517  1.770794\n",
       "502   26          21  0.911789  0.855172  1.766961\n",
       "190   10         101  0.900746  0.865517  1.766264\n",
       "504   26          41  0.910219  0.855172  1.765391\n",
       "662   34          21  0.905997  0.858621  1.764618"
      ]
     },
     "execution_count": 724,
     "metadata": {},
     "output_type": "execute_result"
    }
   ],
   "source": [
    "m_df.sort_values(['Combined'], ascending=False).head()"
   ]
  },
  {
   "cell_type": "code",
   "execution_count": 725,
   "metadata": {
    "scrolled": true
   },
   "outputs": [
    {
     "data": {
      "text/html": [
       "<div>\n",
       "<table border=\"1\" class=\"dataframe\">\n",
       "  <thead>\n",
       "    <tr style=\"text-align: right;\">\n",
       "      <th></th>\n",
       "      <th>eta</th>\n",
       "      <th>estimators</th>\n",
       "      <th>AUC</th>\n",
       "      <th>Acc</th>\n",
       "      <th>Combined</th>\n",
       "    </tr>\n",
       "  </thead>\n",
       "  <tbody>\n",
       "    <tr>\n",
       "      <th>502</th>\n",
       "      <td>26</td>\n",
       "      <td>21</td>\n",
       "      <td>0.911789</td>\n",
       "      <td>0.855172</td>\n",
       "      <td>1.766961</td>\n",
       "    </tr>\n",
       "    <tr>\n",
       "      <th>205</th>\n",
       "      <td>11</td>\n",
       "      <td>51</td>\n",
       "      <td>0.911634</td>\n",
       "      <td>0.848276</td>\n",
       "      <td>1.759910</td>\n",
       "    </tr>\n",
       "    <tr>\n",
       "      <th>504</th>\n",
       "      <td>26</td>\n",
       "      <td>41</td>\n",
       "      <td>0.910219</td>\n",
       "      <td>0.855172</td>\n",
       "      <td>1.765391</td>\n",
       "    </tr>\n",
       "    <tr>\n",
       "      <th>721</th>\n",
       "      <td>37</td>\n",
       "      <td>11</td>\n",
       "      <td>0.910116</td>\n",
       "      <td>0.848276</td>\n",
       "      <td>1.758392</td>\n",
       "    </tr>\n",
       "    <tr>\n",
       "      <th>701</th>\n",
       "      <td>36</td>\n",
       "      <td>11</td>\n",
       "      <td>0.909755</td>\n",
       "      <td>0.844828</td>\n",
       "      <td>1.754583</td>\n",
       "    </tr>\n",
       "  </tbody>\n",
       "</table>\n",
       "</div>"
      ],
      "text/plain": [
       "     eta  estimators       AUC       Acc  Combined\n",
       "502   26          21  0.911789  0.855172  1.766961\n",
       "205   11          51  0.911634  0.848276  1.759910\n",
       "504   26          41  0.910219  0.855172  1.765391\n",
       "721   37          11  0.910116  0.848276  1.758392\n",
       "701   36          11  0.909755  0.844828  1.754583"
      ]
     },
     "execution_count": 725,
     "metadata": {},
     "output_type": "execute_result"
    }
   ],
   "source": [
    "m_df.sort_values(['AUC'], ascending=False).head()"
   ]
  },
  {
   "cell_type": "code",
   "execution_count": 726,
   "metadata": {},
   "outputs": [
    {
     "data": {
      "text/html": [
       "<div>\n",
       "<table border=\"1\" class=\"dataframe\">\n",
       "  <thead>\n",
       "    <tr style=\"text-align: right;\">\n",
       "      <th></th>\n",
       "      <th>eta</th>\n",
       "      <th>estimators</th>\n",
       "      <th>AUC</th>\n",
       "      <th>Acc</th>\n",
       "      <th>Combined</th>\n",
       "    </tr>\n",
       "  </thead>\n",
       "  <tbody>\n",
       "    <tr>\n",
       "      <th>524</th>\n",
       "      <td>27</td>\n",
       "      <td>41</td>\n",
       "      <td>0.877555</td>\n",
       "      <td>0.865517</td>\n",
       "      <td>1.743072</td>\n",
       "    </tr>\n",
       "    <tr>\n",
       "      <th>402</th>\n",
       "      <td>21</td>\n",
       "      <td>21</td>\n",
       "      <td>0.905277</td>\n",
       "      <td>0.865517</td>\n",
       "      <td>1.770794</td>\n",
       "    </tr>\n",
       "    <tr>\n",
       "      <th>190</th>\n",
       "      <td>10</td>\n",
       "      <td>101</td>\n",
       "      <td>0.900746</td>\n",
       "      <td>0.865517</td>\n",
       "      <td>1.766264</td>\n",
       "    </tr>\n",
       "    <tr>\n",
       "      <th>738</th>\n",
       "      <td>37</td>\n",
       "      <td>181</td>\n",
       "      <td>0.866770</td>\n",
       "      <td>0.858621</td>\n",
       "      <td>1.725390</td>\n",
       "    </tr>\n",
       "    <tr>\n",
       "      <th>664</th>\n",
       "      <td>34</td>\n",
       "      <td>41</td>\n",
       "      <td>0.890039</td>\n",
       "      <td>0.858621</td>\n",
       "      <td>1.748659</td>\n",
       "    </tr>\n",
       "  </tbody>\n",
       "</table>\n",
       "</div>"
      ],
      "text/plain": [
       "     eta  estimators       AUC       Acc  Combined\n",
       "524   27          41  0.877555  0.865517  1.743072\n",
       "402   21          21  0.905277  0.865517  1.770794\n",
       "190   10         101  0.900746  0.865517  1.766264\n",
       "738   37         181  0.866770  0.858621  1.725390\n",
       "664   34          41  0.890039  0.858621  1.748659"
      ]
     },
     "execution_count": 726,
     "metadata": {},
     "output_type": "execute_result"
    }
   ],
   "source": [
    "m_df.sort_values(['Acc'], ascending=False).head()"
   ]
  },
  {
   "cell_type": "markdown",
   "metadata": {},
   "source": [
    "Using grid search, we find the best parameters to be eta = 0.2 and number of estimators = 20, which was the top predictor both in terms of accuracy and combined accuracy and AUC."
   ]
  },
  {
   "cell_type": "code",
   "execution_count": 727,
   "metadata": {
    "collapsed": true
   },
   "outputs": [],
   "source": [
    "xg = xgb.XGBClassifier(learning_rate=0.26, n_estimators=21)"
   ]
  },
  {
   "cell_type": "code",
   "execution_count": 728,
   "metadata": {},
   "outputs": [
    {
     "data": {
      "text/plain": [
       "XGBClassifier(base_score=0.5, colsample_bylevel=1, colsample_bytree=1,\n",
       "       gamma=0, learning_rate=0.26, max_delta_step=0, max_depth=3,\n",
       "       min_child_weight=1, missing=None, n_estimators=21, nthread=-1,\n",
       "       objective='binary:logistic', reg_alpha=0, reg_lambda=1,\n",
       "       scale_pos_weight=1, seed=0, silent=True, subsample=1)"
      ]
     },
     "execution_count": 728,
     "metadata": {},
     "output_type": "execute_result"
    }
   ],
   "source": [
    "xg.fit(X,Y)"
   ]
  },
  {
   "cell_type": "code",
   "execution_count": 679,
   "metadata": {
    "collapsed": true
   },
   "outputs": [],
   "source": [
    "submit(xg)"
   ]
  },
  {
   "cell_type": "markdown",
   "metadata": {},
   "source": [
    "Note: Optimizing for AUC worked better."
   ]
  },
  {
   "cell_type": "code",
   "execution_count": 730,
   "metadata": {},
   "outputs": [
    {
     "data": {
      "text/plain": [
       "GaussianNB(priors=None)"
      ]
     },
     "execution_count": 730,
     "metadata": {},
     "output_type": "execute_result"
    }
   ],
   "source": [
    "nb = GaussianNB()\n",
    "nb.fit(X,Y)"
   ]
  },
  {
   "cell_type": "code",
   "execution_count": 737,
   "metadata": {},
   "outputs": [],
   "source": [
    "submit(nb)"
   ]
  },
  {
   "cell_type": "markdown",
   "metadata": {},
   "source": [
    "<h2>Stacking</h2>"
   ]
  },
  {
   "cell_type": "code",
   "execution_count": 768,
   "metadata": {},
   "outputs": [
    {
     "name": "stdout",
     "output_type": "stream",
     "text": [
      "Fitting AdaBoost classifier...\n",
      "Fitting XGBoost classifier...\n",
      "Fitting Random Forest classifier...\n",
      "Fitting Naive Bayes classifier...\n",
      "Fitting Linear SVM classifier...\n"
     ]
    }
   ],
   "source": [
    "for key, value in classifiers.items():\n",
    "    print(\"Fitting \" + key + \" classifier...\")\n",
    "    value.fit(X_train, Y_train)"
   ]
  },
  {
   "cell_type": "code",
   "execution_count": 769,
   "metadata": {
    "collapsed": true
   },
   "outputs": [],
   "source": [
    "stack_train = pd.DataFrame()\n",
    "stack_test = pd.DataFrame()"
   ]
  },
  {
   "cell_type": "code",
   "execution_count": 771,
   "metadata": {},
   "outputs": [],
   "source": [
    "for key, value in classifiers.items():\n",
    "    stack_train[key] = value.predict(X_train)\n",
    "for key, value in classifiers.items():\n",
    "    stack_test[key] = value.predict(X_test)"
   ]
  },
  {
   "cell_type": "code",
   "execution_count": 772,
   "metadata": {},
   "outputs": [],
   "source": [
    "stack_train['Survived'] = Y_train\n",
    "stack_test['Survived'] = Y_test"
   ]
  },
  {
   "cell_type": "code",
   "execution_count": 775,
   "metadata": {
    "scrolled": true
   },
   "outputs": [
    {
     "data": {
      "text/plain": [
       "(290, 6)"
      ]
     },
     "execution_count": 775,
     "metadata": {},
     "output_type": "execute_result"
    }
   ],
   "source": [
    "stack_test.shape"
   ]
  },
  {
   "cell_type": "code",
   "execution_count": 776,
   "metadata": {},
   "outputs": [],
   "source": [
    "X_stack_train = stack_train.drop('Survived', 1)\n",
    "X_stack_test = stack_test.drop('Survived', 1)"
   ]
  },
  {
   "cell_type": "code",
   "execution_count": 781,
   "metadata": {
    "scrolled": false
   },
   "outputs": [],
   "source": [
    "Y_stack_train = stack_train['Survived']\n",
    "Y_stack_test = stack_test['Survived']"
   ]
  },
  {
   "cell_type": "code",
   "execution_count": 779,
   "metadata": {},
   "outputs": [],
   "source": [
    "stackers = {\n",
    "    \"XGBoost\": xgb.XGBClassifier(learning_rate=0.26, n_estimators=21)\n",
    "    ,\"Random Forest\": RandomForestClassifier(n_estimators=25)\n",
    "    ,\"AdaBoost\": AdaBoostClassifier()\n",
    "    ,\"Naive Bayes\": GaussianNB()\n",
    "    #,\"Linear SVM\": SVC(kernel=\"linear\", C=0.025, probability=True)\n",
    "    #,\"Gaussian SVM\": SVC(gamma=2, C=1, probability=True)\n",
    "    #,\"k-Nearest Neighbors\": KNeighborsClassifier(3)\n",
    "    }"
   ]
  },
  {
   "cell_type": "code",
   "execution_count": 780,
   "metadata": {},
   "outputs": [
    {
     "name": "stdout",
     "output_type": "stream",
     "text": [
      "Fitting AdaBoost stacker...\n",
      "Fitting XGBoost stacker...\n",
      "Fitting Random Forest stacker...\n",
      "Fitting Naive Bayes stacker...\n"
     ]
    }
   ],
   "source": [
    "for key, value in stackers.items():\n",
    "    print(\"Fitting \" + key + \" stacker...\")\n",
    "    value.fit(X_stack_train, Y_stack_train)"
   ]
  },
  {
   "cell_type": "code",
   "execution_count": 785,
   "metadata": {},
   "outputs": [
    {
     "name": "stdout",
     "output_type": "stream",
     "text": [
      "AdaBoost AUC: 0.775778635779 Accuracy: 0.841379310345\n",
      "XGBoost AUC: 0.822136422136 Accuracy: 0.841379310345\n",
      "Random Forest AUC: 0.815752895753 Accuracy: 0.841379310345\n",
      "Naive Bayes AUC: 0.84972972973 Accuracy: 0.841379310345\n"
     ]
    },
    {
     "data": {
      "image/png": "[encoded data removed]",
      "text/plain": [
       "<matplotlib.figure.Figure at 0x1f2a7fd64a8>"
      ]
     },
     "metadata": {},
     "output_type": "display_data"
    }
   ],
   "source": [
    "plot_roc_curves(stackers, X_stack_test, Y_test)"
   ]
  },
  {
   "cell_type": "code",
   "execution_count": null,
   "metadata": {
    "collapsed": true
   },
   "outputs": [],
   "source": []
  }
 ],
 "metadata": {
  "anaconda-cloud": {},
  "kernelspec": {
   "display_name": "Python [default]",
   "language": "python",
   "name": "python3"
  }
 },
 "nbformat": 4,
 "nbformat_minor": 1
}
